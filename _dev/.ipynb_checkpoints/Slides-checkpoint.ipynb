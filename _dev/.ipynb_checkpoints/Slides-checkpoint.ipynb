{
 "cells": [
  {
   "cell_type": "markdown",
   "metadata": {
    "slideshow": {
     "slide_type": "slide"
    }
   },
   "source": [
    "<h1><center> Zeroinfl </center></h1>\n",
    "    \n",
    "<h2><center>A python package for Zero Inflated Regression</center></h2>\n",
    "\n",
    "<h3><center> STAT 689 Course Project Spring '18 </center></h3>\n",
    "\n",
    "<br>\n",
    "<br>\n",
    "<br>\n",
    "<br>\n",
    "<br>\n",
    "<br>\n",
    "\n",
    "<center>Eric Chuu,\n",
    "Rajan Kapoor</center>\n",
    "\n",
    "\n",
    "4/11/2018\n",
    "    \n",
    "    "
   ]
  },
  {
   "cell_type": "markdown",
   "metadata": {
    "slideshow": {
     "slide_type": "subslide"
    }
   },
   "source": [
    "# Outline\n",
    "\n",
    "<h1>  -  Intro: Zero Inflation </h1>\n",
    "##  -  ML and EM Equations\n",
    "##  -  Algorithm flowchart\n",
    "##  -  Classes and Methods\n",
    "##  -  Demo\n",
    "##  -  Results\n",
    "##  -  To Do\n"
   ]
  },
  {
   "cell_type": "markdown",
   "metadata": {
    "slideshow": {
     "slide_type": "subslide"
    }
   },
   "source": [
    "# Intro: Zero Inflation\n",
    "\n",
    "### - Count models with extra zeros than what could be modelled by Poisson (or Negative Binomial or Geometric) Regression.\n",
    "\n",
    "### - Applications: (Add images/graphics)\n",
    "\n",
    "### - Electronics/ Manufacturing:\n",
    "Number of improperly soldered leads of components mounted on a printed wiring board. In general, number of defects on an item in a manufacturing process.\n",
    "https://www.researchgate.net/profile/Diane_Lambert2/publication/254333007_Zero-Inflated_Poisson_Regression_With_An_Application_to_Defects_in_Manufacturing/links/561d38d608aec7945a252dbb/Zero-Inflated-Poisson-Regression-With-An-Application-to-Defects-in-Manufacturing.pdf\n",
    "\n",
    "### - Social Science: \n",
    "Estimating congressional response to Supreme Court decisions from 1979 to 1988 (\"Warren and Burger eras\": Supreme Court Chief Justices during that time.)\n",
    "http://journals.sagepub.com/doi/pdf/10.1177/0049124198026003004\n",
    "\n",
    "### - Software Analysis: \n",
    "An application of zero-inflated Poisson regression for software fault prediction.\n",
    "\n",
    "### - Traffic Engineering:\n",
    "Modeling crashes involving pedestrians and motorized traffic\n",
    "\n",
    "### - Genetics: \n",
    "A zero-inflated poisson model for genetic analysis of the number of mastitis cases in Norwegian Red cows."
   ]
  },
  {
   "cell_type": "markdown",
   "metadata": {
    "slideshow": {
     "slide_type": "subslide"
    }
   },
   "source": [
    "# Outline\n",
    "\n",
    "##  -  ~~Intro: Zero Inflation~~\n",
    "<h1> - ML and EM Equations </h1>\n",
    "##  -  Algorithm flowchart\n",
    "##  -  Classes and Methods \n",
    "##  -  Usage\n",
    "##  -  Results\n",
    "##  -  To Do"
   ]
  },
  {
   "cell_type": "code",
   "execution_count": null,
   "metadata": {
    "collapsed": true,
    "slideshow": {
     "slide_type": "subslide"
    }
   },
   "outputs": [],
   "source": []
  },
  {
   "cell_type": "markdown",
   "metadata": {
    "slideshow": {
     "slide_type": "subslide"
    }
   },
   "source": [
    "# Outline\n",
    "\n",
    "##  -  ~~Intro: Zero Inflation~~\n",
    "##  -  ~~ML and EM Equations~~\n",
    "<h1> - Algorithm flowchart </h1>\n",
    "##  -  Classes and Methods \n",
    "##  -  Usage\n",
    "##  -  Results\n",
    "##  -  To Do"
   ]
  },
  {
   "cell_type": "code",
   "execution_count": null,
   "metadata": {
    "collapsed": true,
    "slideshow": {
     "slide_type": "subslide"
    }
   },
   "outputs": [],
   "source": []
  },
  {
   "cell_type": "markdown",
   "metadata": {
    "slideshow": {
     "slide_type": "subslide"
    }
   },
   "source": [
    "# Outline\n",
    "\n",
    "##  -  ~~Intro: Zero Inflation~~\n",
    "##  -  ~~ML and EM Equations~~\n",
    "##  -  ~~Algorithm flowchart~~\n",
    "<h1> - Classes and Methods </h1>\n",
    "##  -  Usage\n",
    "##  -  Results\n",
    "##  -  To Do"
   ]
  },
  {
   "cell_type": "markdown",
   "metadata": {
    "slideshow": {
     "slide_type": "subslide"
    }
   },
   "source": [
    "# Classes and Methods\n",
    "\n",
    " - LinkClass\n",
    "   - Instance Methods: link, link_inv, link_inv_deriv\n",
    " - Classes Inheriting LinkClass: Logit, Probit, CLogLog, Cauchit, Log\n",
    " - ZeroInflated\n",
    "    - Instance Methods:\n",
    "      - ziPoisson, ziNegBin, ziGeom\n",
    "      - gradPoisson, gradNegBin, gradGeom\n",
    "      - EM_estimate\n",
    "      - fit\n",
    "      - setter methods\n",
    "    - Static Methods:\n",
    "      - convert_params\n",
    "      - argument processing methods (dist, formula, link)\n",
    " - ZeroInflatedResults\n",
    "    - Instance methods: summary, printModel, predict, vcov "
   ]
  },
  {
   "cell_type": "markdown",
   "metadata": {
    "slideshow": {
     "slide_type": "subslide"
    }
   },
   "source": [
    "# Outline\n",
    "\n",
    "##  -  ~~Intro: Zero Inflation~~\n",
    "##  -  ~~ML and EM Equations~~\n",
    "##  -  ~~Algorithm flowchart~~\n",
    "##  -  ~~Classes and Methods~~\n",
    "<h1> - Usage </h1>\n",
    "##  -  Results\n",
    "##  -  To Do"
   ]
  },
  {
   "cell_type": "markdown",
   "metadata": {
    "slideshow": {
     "slide_type": "subslide"
    }
   },
   "source": [
    "#### ZeroInflated(formula_str, df, params): \n",
    " - Creates an instance of class ZeroInflated.\n",
    " - Default params: dist = 'poisson', link = 'logit'\n",
    "\n",
    "#### ZeroInflated(formula_str, df).fit(params): \n",
    " - Returns an instance of class ZeroInflatedResults.\n",
    " - Default params: EM = True, method = BFGS\n",
    " \n",
    "#### ZeroInflated(formula_str, df).EM_estimate():\n",
    " - Returns EM estimates of model as dict of pandas series.\n",
    "\n",
    "#### ZeroInflated(formula_str, df).fit(params).method:\n",
    " - method = summary, printModel, predict, vcov\n"
   ]
  },
  {
   "cell_type": "code",
   "execution_count": 3,
   "metadata": {
    "slideshow": {
     "slide_type": "subslide"
    }
   },
   "outputs": [],
   "source": [
    "from zeroinfl import *\n",
    "\n",
    "\n",
    "import numpy as np\n",
    "import pandas as pd\n",
    "from pandas.core import datetools\n",
    "\n",
    "df = pd.read_csv('DebTrivedi.csv',index_col = [0])\n",
    "sel = np.array([1, 6, 7, 8, 13, 15, 18])-1\n",
    "df = df.iloc[:,sel]\n",
    "\n",
    "formula_str = 'ofp ~ hosp + health + numchron + gender + school + privins | health'"
   ]
  },
  {
   "cell_type": "markdown",
   "metadata": {
    "slideshow": {
     "slide_type": "subslide"
    }
   },
   "source": [
    "# Usage: fit()"
   ]
  },
  {
   "cell_type": "code",
   "execution_count": 4,
   "metadata": {
    "slideshow": {
     "slide_type": "fragment"
    }
   },
   "outputs": [
    {
     "data": {
      "text/plain": [
       "Call:\n",
       "    ZeroInflated(formula_str='ofp ~ hosp + health + numchron + gender + school + privins | health', data=df, dist='poisson', offsetx=None, offsetz=None, link='logit', weights=None, missing='none')\n",
       "\n",
       "formula:\n",
       "    ofp ~ hosp + health + numchron + gender + school + privins | health\n",
       "dist: poisson\n",
       "link: logit\n",
       "linkobj:\n",
       "    linkstr: logit\n",
       "    link: log(p/(1-p))\n",
       "    linkinv: exp(eta)/(1+exp(eta))\n",
       "Message: Desired error not necessarily achieved due to precision loss.\n",
       "Result: \n",
       "    Count:\n",
       "Intercept              1.393671948863\n",
       "health[T.excellent]   -0.307753660408\n",
       "health[T.poor]         0.254201322908\n",
       "gender[T.male]        -0.064859143867\n",
       "privins[T.yes]         0.085441066717\n",
       "hosp                   0.159127058413\n",
       "numchron               0.103280224020\n",
       "school                 0.019591000079\n",
       "dtype: float64\n",
       "    Zero:\n",
       "Intercept             -1.733641644218\n",
       "health[T.excellent]    0.474905518413\n",
       "health[T.poor]        -0.399155782466\n",
       "dtype: float64 \n",
       "df_null: 4404 \n",
       "df_resid: 4395"
      ]
     },
     "execution_count": 4,
     "metadata": {},
     "output_type": "execute_result"
    }
   ],
   "source": [
    "ZeroInflated(formula_str, df).fit()"
   ]
  },
  {
   "cell_type": "markdown",
   "metadata": {
    "slideshow": {
     "slide_type": "subslide"
    }
   },
   "source": [
    "# Outline\n",
    "\n",
    "## - ~~Intro: Zero Inflation~~\n",
    "## - ~~ML and EM Equations~~\n",
    "## - ~~Algorithm flowchart~~\n",
    "## - ~~Classes and Methods~~\n",
    "## - ~~Usage~~\n",
    "<h1> - Results</h1>\n",
    "##  -  To Do"
   ]
  },
  {
   "cell_type": "markdown",
   "metadata": {
    "slideshow": {
     "slide_type": "subslide"
    }
   },
   "source": [
    "# Results\n",
    "\n",
    "#### Zero Inflated Poisson: logit link\n",
    "\n",
    "<table>\n",
    "  <tr>\n",
    "    <th>Count:</th>\n",
    "    <th>Python</th> \n",
    "    <th>R</th>\n",
    "  </tr>\n",
    "  <tr>\n",
    "    <th>Intercept</th>\n",
    "    <th><b>1.39367</th> \n",
    "    <th><b>1.39367</th>\n",
    "  </tr>\n",
    "  <tr>\n",
    "    <th>health[T.excellent]</th>\n",
    "    <th><b>-0.30775</th> \n",
    "    <th><b>-0.30775</th>\n",
    "  </tr>\n",
    "  <tr>\n",
    "    <th>health[T.poor]</th>\n",
    "    <th><b>0.25420</th> \n",
    "    <th><b>0.25420</th>\n",
    "  </tr>\n",
    "  <tr>\n",
    "    <th>gender[T.male]</th>\n",
    "    <th><b>-0.06486</th> \n",
    "    <th><b>-0.06486</th>\n",
    "  </tr>\n",
    "  <tr>\n",
    "    <th>privins[T.yes]</th>\n",
    "    <th><b>0.08544</th> \n",
    "    <th><b>0.08544</th>\n",
    "  </tr>\n",
    "  <tr>\n",
    "    <th>hosp</th>\n",
    "    <th><b>0.15913</th> \n",
    "    <th><b>0.15913</th>\n",
    "  </tr>\n",
    "  <tr>\n",
    "    <th>numchron</th>\n",
    "    <th><b>0.10328</th> \n",
    "    <th><b>0.10328</th>\n",
    "  </tr>\n",
    "  <tr>\n",
    "    <th>school</th>\n",
    "    <th><b>0.01959</th> \n",
    "    <th><b>0.01959</th>\n",
    "  </tr>\n",
    "</table> \n",
    "<table>\n",
    "  <tr>\n",
    "    <th>Zero:</th>\n",
    "    <th>Python</th> \n",
    "    <th>R</th>\n",
    "  </tr> \n",
    "  <tr>\n",
    "    <th>Intercept</th>\n",
    "    <th><b>-1.73364</th> \n",
    "    <th><b>-1.73364</th>\n",
    "  </tr>\n",
    "  <tr>\n",
    "    <th>health[T.excellent]</th>\n",
    "    <th><b>0.47490</th> \n",
    "    <th><b>0.47489</th>\n",
    "  </tr>\n",
    "  <tr>\n",
    "    <th>health[T.poor]</th>\n",
    "    <th><b>-0.39916</th> \n",
    "    <th><b>-0.39916</th>\n",
    "  </tr>\n",
    " </table>"
   ]
  },
  {
   "cell_type": "code",
   "execution_count": null,
   "metadata": {
    "collapsed": true,
    "slideshow": {
     "slide_type": "skip"
    }
   },
   "outputs": [],
   "source": [
    "1+1"
   ]
  },
  {
   "cell_type": "markdown",
   "metadata": {
    "slideshow": {
     "slide_type": "notes"
    }
   },
   "source": [
    "<pre>\n",
    "     Count:                Python                R\n",
    "Intercept              <b>1.39367</b>1948862    <b>1.39367</b>0893326 <br>\n",
    "health[T.excellent]   <b>-0.30775</b>3660409   <b>-0.30775</b>7302953 <br>\n",
    "health[T.poor]         <b>0.2542013</b>22909    <b>0.2542013</b>58538 <br>\n",
    "gender[T.male]        <b>-0.064859</b>143868   <b>-0.064859</b>352279 <br>\n",
    "privins[T.yes]         <b>0.085441</b>066716    <b>0.085441</b>351362 <br>\n",
    "hosp                   <b>0.1591270</b>58413    <b>0.1591270</b>73461 <br>\n",
    "numchron               <b>0.103280</b>224020    <b>0.103280</b>340077 <br>\n",
    "school                 <b>0.0195910</b>00079    <b>0.0195910</b>78569 <br>\n",
    "    Zero:\n",
    "Intercept             <b>-1.73364</b>1644220   <b>-1.73364</b>2401609 <br>\n",
    "health[T.excellent]    <b>0.474</b>905518428    <b>0.474</b>886145700 <br>\n",
    "health[T.poor]        <b>-0.399155</b>782468   <b>-0.399155</b>156555 <br>\n",
    "</pre> "
   ]
  },
  {
   "cell_type": "markdown",
   "metadata": {
    "collapsed": true,
    "slideshow": {
     "slide_type": "subslide"
    }
   },
   "source": [
    "# Results\n",
    "\n",
    "#### Zero Inflated Geometric: logit link\n",
    "\n",
    "<table>\n",
    "  <tr>\n",
    "    <th>Count:</th>\n",
    "    <th>Python</th> \n",
    "    <th>R</th>\n",
    "  </tr>\n",
    "  <tr>\n",
    "    <th>Intercept</th>\n",
    "    <th><b>0.92523</th> \n",
    "    <th><b>0.92523</th>\n",
    "  </tr>\n",
    "  <tr>\n",
    "    <th>health[T.excellent]</th>\n",
    "    <th><b>-0.34160</th> \n",
    "    <th><b>-0.34160</th>\n",
    "  </tr>\n",
    "  <tr>\n",
    "    <th>health[T.poor]</th>\n",
    "    <th><b>0.31351</th> \n",
    "    <th><b>0.31352</th>\n",
    "  </tr>\n",
    "  <tr>\n",
    "    <th>gender[T.male]</th>\n",
    "    <th><b>-0.12678</th> \n",
    "    <th><b>-0.12678</th>\n",
    "  </tr>\n",
    "  <tr>\n",
    "    <th>privins[T.yes]</th>\n",
    "    <th><b>0.22483</th> \n",
    "    <th><b>0.22483</th>\n",
    "  </tr>\n",
    "  <tr>\n",
    "    <th>hosp</th>\n",
    "    <th><b>0.22057</th> \n",
    "    <th><b>0.22057</th>\n",
    "  </tr>\n",
    "  <tr>\n",
    "    <th>numchron</th>\n",
    "    <th><b>0.17603</th> \n",
    "    <th><b>0.17603</th>\n",
    "  </tr>\n",
    "  <tr>\n",
    "    <th>school</th>\n",
    "    <th><b>0.02689</th> \n",
    "    <th><b>0.02689</th>\n",
    "  </tr>\n",
    "</table> \n",
    "<table>\n",
    "  <tr>\n",
    "    <th>Zero:</th>\n",
    "    <th>Python</th> \n",
    "    <th>R</th>\n",
    "  </tr> \n",
    "  <tr>\n",
    "    <th>Intercept</th>\n",
    "    <th><b>-24.34361</th> \n",
    "    <th><b>-24.33868</th>\n",
    "  </tr>\n",
    "  <tr>\n",
    "    <th>health[T.excellent]</th>\n",
    "    <th><b>10.00308</th> \n",
    "    <th><b>9.99858</th>\n",
    "  </tr>\n",
    "  <tr>\n",
    "    <th>health[T.poor]</th>\n",
    "    <th><b>19.44489</th> \n",
    "    <th><b>19.43996</th>\n",
    "  </tr>\n",
    " </table>"
   ]
  },
  {
   "cell_type": "markdown",
   "metadata": {
    "collapsed": true,
    "slideshow": {
     "slide_type": "notes"
    }
   },
   "source": [
    "<pre>\n",
    "[1] \"coefc\"\n",
    "      (Intercept)        healthpoor   healthexcellent        gendermale        privinsyes \n",
    " \"0.925231667760\"  \"0.313515063145\" \"-0.341604225196\" \"-0.126783064898\"  \"0.224834857091\" \n",
    "             hosp          numchron            school \n",
    " \"0.220568006945\"  \"0.176031530196\"  \"0.026889883133\" \n",
    "[1] \"coefz\"\n",
    "       (Intercept)         healthpoor    healthexcellent \n",
    "\"-24.338681295277\"  \"19.439964441846\"   \"9.998584332354\" \n",
    "\n",
    "Intercept              0.925231667776\n",
    "health[T.excellent]   -0.341604225401\n",
    "health[T.poor]         0.313515063204\n",
    "gender[T.male]        -0.126783064877\n",
    "privins[T.yes]         0.224834857129\n",
    "hosp                   0.220568006986\n",
    "numchron               0.176031530270\n",
    "school                 0.026889883630\n",
    "dtype: float64\n",
    "    Zero:\n",
    "Intercept             -24.343611162596\n",
    "health[T.excellent]    10.003075597691\n",
    "health[T.poor]         19.444894315458\n",
    "</pre>"
   ]
  },
  {
   "cell_type": "markdown",
   "metadata": {
    "slideshow": {
     "slide_type": "skip"
    }
   },
   "source": [
    "<table style=\"float: left;\">"
   ]
  },
  {
   "cell_type": "markdown",
   "metadata": {
    "slideshow": {
     "slide_type": "subslide"
    }
   },
   "source": [
    "# Results\n",
    "\n",
    "#### Zero Inflated Negative Binomial: logit link\n",
    "\n",
    "\n",
    "<table>\n",
    "  <tr>\n",
    "    <th>Count:</th>\n",
    "    <th>Python</th> \n",
    "    <th>R</th>\n",
    "  </tr>\n",
    "  <tr>\n",
    "    <th>Intercept</th>\n",
    "    <th><b>0.94181</th> \n",
    "    <th><b>0.94206</th>\n",
    "  </tr>\n",
    "  <tr>\n",
    "    <th>health[T.excellent]</th>\n",
    "    <th><b>-0.32944</th> \n",
    "    <th><b>-0.32945</th>\n",
    "  </tr>\n",
    "  <tr>\n",
    "    <th>health[T.poor]</th>\n",
    "    <th><b>0.32891</th> \n",
    "    <th><b>0.32884</th>\n",
    "  </tr>\n",
    "  <tr>\n",
    "    <th>gender[T.male]</th>\n",
    "    <th><b>-0.12468</th> \n",
    "    <th><b>-0.12465</th>\n",
    "  </tr>\n",
    "  <tr>\n",
    "    <th>privins[T.yes]</th>\n",
    "    <th><b>0.21839</th> \n",
    "    <th><b>0.21832</th>\n",
    "  </tr>\n",
    "  <tr>\n",
    "    <th>hosp</th>\n",
    "    <th><b>0.22252</th> \n",
    "    <th><b>0.22250</th>\n",
    "  </tr>\n",
    "  <tr>\n",
    "    <th>numchron</th>\n",
    "    <th><b>0.17366</th> \n",
    "    <th><b>0.17363</th>\n",
    "  </tr>\n",
    "  <tr>\n",
    "    <th>school</th>\n",
    "    <th><b>0.02667</th> \n",
    "    <th><b>0.02667</th>\n",
    "  </tr>\n",
    "  <tr>\n",
    "    <th>theta</th>\n",
    "    <th><b>1.25876</th> \n",
    "    <th><b>1.25925</th>\n",
    "  </tr>\n",
    "</table> \n",
    "<table>\n",
    "  <tr>\n",
    "    <th>Zero:</th>\n",
    "    <th>Python</th> \n",
    "    <th>R</th>\n",
    "  </tr> \n",
    "  <tr>\n",
    "    <th>Intercept</th>\n",
    "    <th><b>-5.04317</th> \n",
    "    <th><b>-5.02321</th>\n",
    "  </tr>\n",
    "  <tr>\n",
    "    <th>health[T.excellent]</th>\n",
    "    <th><b>1.08234</th> \n",
    "    <th><b>1.06984</th>\n",
    "  </tr>\n",
    "  <tr>\n",
    "    <th>health[T.poor]</th>\n",
    "    <th><b>1.61952</th> \n",
    "    <th><b>1.60087</th>\n",
    "  </tr>\n",
    " </table>\n",
    "  "
   ]
  },
  {
   "cell_type": "markdown",
   "metadata": {
    "slideshow": {
     "slide_type": "notes"
    }
   },
   "source": [
    "<pre>\n",
    "\n",
    "[1] \"coefc\"\n",
    "      (Intercept)        healthpoor   healthexcellent        gendermale        privinsyes \n",
    " \"0.942057654663\"  \"0.328837434988\" \"-0.329449197037\" \"-0.124653450217\"  \"0.218318709658\" \n",
    "             hosp          numchron            school \n",
    " \"0.222499553909\"  \"0.173632997381\"  \"0.026670468563\" \n",
    "[1] \"coefz\"\n",
    "      (Intercept)        healthpoor   healthexcellent \n",
    "\"-5.023207307752\"  \"1.600869449193\"  \"1.069841367704\" \n",
    "\n",
    "1.259252\n",
    "\n",
    "Count:\n",
    "Intercept              0.941806420063\n",
    "health[T.excellent]   -0.329441603517\n",
    "health[T.poor]         0.328911163875\n",
    "gender[T.male]        -0.124682074792\n",
    "privins[T.yes]         0.218385934913\n",
    "hosp                   0.222516202169\n",
    "numchron               0.173664131132\n",
    "school                 0.026673431561\n",
    "dtype: float64\n",
    "    Zero:\n",
    "Intercept             -5.043170380636\n",
    "health[T.excellent]    1.082340977632\n",
    "health[T.poor]         1.619517646169\n",
    "dtype: float64\n",
    "    theta: 1.258759013055\n",
    "    \n",
    "</pre>"
   ]
  },
  {
   "cell_type": "markdown",
   "metadata": {
    "slideshow": {
     "slide_type": "skip"
    }
   },
   "source": []
  },
  {
   "cell_type": "markdown",
   "metadata": {
    "slideshow": {
     "slide_type": "skip"
    }
   },
   "source": []
  },
  {
   "cell_type": "markdown",
   "metadata": {
    "slideshow": {
     "slide_type": "skip"
    }
   },
   "source": [
    "# Results\n",
    "\n",
    "#### EM Estimates : Negative Binomial - logit link"
   ]
  },
  {
   "cell_type": "markdown",
   "metadata": {
    "slideshow": {
     "slide_type": "notes"
    }
   },
   "source": [
    "<pre>\n",
    "\n",
    "X(Intercept)      Xhealthpoor Xhealthexcellent      Xgendermale      Xprivinsyes            Xhosp \n",
    "      0.94205767       0.32883744      -0.32944920      -0.12465344       0.21831872       0.22249956 \n",
    "       Xnumchron          Xschool      (Intercept)       healthpoor  healthexcellent                  \n",
    "      0.17363302       0.02667065      -5.02320729       1.60086945       1.06984137       1.25925174 \n",
    "\n",
    "'count': Intercept              0.954974381655\n",
    " health[T.excellent]   -0.327874794327\n",
    " health[T.poor]         0.326516269194\n",
    " gender[T.male]        -0.123146816220\n",
    " privins[T.yes]         0.214741701073\n",
    " hosp                   0.221704399479\n",
    " numchron               0.171967040735\n",
    " school                 0.026517080356\n",
    " dtype: float64,\n",
    " 'theta': 1.3041686363328413,\n",
    " 'zero': Intercept             -4.346081634494\n",
    " health[T.excellent]    0.779900134789\n",
    " health[T.poor]         1.028712964862\n",
    " \n",
    " \n",
    " {'count': Intercept              0.955026768001\n",
    " health[T.excellent]   -0.328340961291\n",
    " health[T.poor]         0.326467123313\n",
    " gender[T.male]        -0.123137317112\n",
    " privins[T.yes]         0.214724028049\n",
    " hosp                   0.221700415560\n",
    " numchron               0.171962400311\n",
    " school                 0.026519172037\n",
    " dtype: float64,\n",
    " 'theta': 1.3041521885175773,\n",
    " 'zero': Intercept             -4.341598946074\n",
    " health[T.excellent]    0.759895412523\n",
    " health[T.poor]         1.024220944035\n",
    " dtype: float64}\n",
    " \n",
    " </pre>"
   ]
  },
  {
   "cell_type": "markdown",
   "metadata": {
    "collapsed": true,
    "slideshow": {
     "slide_type": "subslide"
    }
   },
   "source": [
    "# Outline\n",
    "\n",
    "## - ~~Intro: Zero Inflation~~\n",
    "## - ~~ML and EM Equations~~\n",
    "## - ~~Algorithm flowchart~~\n",
    "## - ~~Classes and Methods~~\n",
    "## - ~~Usage~~\n",
    "## - ~~Results~~\n",
    "<h1> - To Do</h1>\n"
   ]
  },
  {
   "cell_type": "markdown",
   "metadata": {
    "slideshow": {
     "slide_type": "subslide"
    }
   },
   "source": [
    "- A\n",
    "- B\n",
    "- C"
   ]
  },
  {
   "cell_type": "markdown",
   "metadata": {
    "collapsed": true,
    "slideshow": {
     "slide_type": "notes"
    }
   },
   "source": [
    "from current Slides folder, in terminal:\n",
    "\n",
    "jupyter nbconvert Slides.ipynb --to slides --post serve"
   ]
  },
  {
   "cell_type": "markdown",
   "metadata": {
    "slideshow": {
     "slide_type": "subslide"
    }
   },
   "source": []
  }
 ],
 "metadata": {
  "celltoolbar": "Slideshow",
  "kernelspec": {
   "display_name": "Python 3",
   "language": "python",
   "name": "python3"
  },
  "language_info": {
   "codemirror_mode": {
    "name": "ipython",
    "version": 3
   },
   "file_extension": ".py",
   "mimetype": "text/x-python",
   "name": "python",
   "nbconvert_exporter": "python",
   "pygments_lexer": "ipython3",
   "version": "3.6.1"
  }
 },
 "nbformat": 4,
 "nbformat_minor": 2
}
