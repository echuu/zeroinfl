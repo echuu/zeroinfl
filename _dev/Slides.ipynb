{
 "cells": [
  {
   "cell_type": "markdown",
   "metadata": {
    "slideshow": {
     "slide_type": "slide"
    }
   },
   "source": [
    "<h1><center> Zeroinfl </center></h1>\n",
    "    \n",
    "<h2><center>A python package for Zero Inflated Regression</center></h2>\n",
    "\n",
    "<h3><center> STAT 689 Course Project Spring '18 </center></h3>\n",
    "\n",
    "<br>\n",
    "<br>\n",
    "<br>\n",
    "<br>\n",
    "<br>\n",
    "<br>\n",
    "\n",
    "<center>Eric Chuu,\n",
    "Rajan Kapoor</center>\n",
    "<br>\n",
    "<br>\n",
    "<br>\n",
    "<br>\n",
    "<br>\n",
    "<br>\n",
    "Project Repo: [github.com/rkapr/zeroinfl](https://github.com/rkapr/zeroinfl) <br>\n",
    "Presentation: [rkapr.github.io/zeroinfl](https://rkapr.github.io/zeroinfl)/\n",
    "\n",
    "4/11/2018  "
   ]
  },
  {
   "cell_type": "markdown",
   "metadata": {
    "slideshow": {
     "slide_type": "slide"
    }
   },
   "source": [
    "# Outline\n",
    "\n",
    "<h1>  -  Intro: Zero Inflation </h1>\n",
    "##  -  ML and EM Equations\n",
    "##  -  Algorithm flowchart\n",
    "##  -  Classes and Methods\n",
    "##  -  Demo\n",
    "##  -  Results\n",
    "##  -  To Do\n"
   ]
  },
  {
   "cell_type": "markdown",
   "metadata": {
    "slideshow": {
     "slide_type": "slide"
    }
   },
   "source": [
    "# Intro: Zero Inflation\n",
    "\n",
    "### - Count models with extra zeros than what could be modelled by Poisson (or Negative Binomial or Geometric) Regression.\n",
    "\n",
    "\n",
    "### - Applications: (Add images/graphics)\n",
    "\n",
    "### Number of House and Senate Actions Taken in Responseto Supreme Court Decisions (1979-88)\n",
    "\n",
    "| Number of Actions | Freq | Percentage |\n",
    "| --- | --- | --- |\n",
    "| 0 | 3882 | 95.80 |\n",
    "|1      | 63    |  1.55 |\n",
    "|2      | 38    |  0.94 | \n",
    "|3      | 32    |  0.79 |      \n",
    "|4      |  8    |  0.20 |      \n",
    "|5      | 12    |  0.30 |      \n",
    "|6      | 12    |  0.30 |      \n",
    "|7      |  3    |  0.07 |      \n",
    "|10     |  1    |  0.02 |      \n",
    "|11     |  1    |  0.02 |      \n",
    "|Total  |4052   |   100 |      \n",
    "\n"
   ]
  },
  {
   "cell_type": "markdown",
   "metadata": {
    "slideshow": {
     "slide_type": "notes"
    }
   },
   "source": [
    "\n",
    "### - Electronics/ Manufacturing:\n",
    "Number of improperly soldered leads of components mounted on a printed wiring board. In general, number of defects on an item in a manufacturing process.\n",
    "https://www.researchgate.net/profile/Diane_Lambert2/publication/254333007_Zero-Inflated_Poisson_Regression_With_An_Application_to_Defects_in_Manufacturing/links/561d38d608aec7945a252dbb/Zero-Inflated-Poisson-Regression-With-An-Application-to-Defects-in-Manufacturing.pdf\n",
    "\n",
    "### - Social Science: \n",
    "Estimating congressional response to Supreme Court decisions from 1979 to 1988 (\"Warren and Burger eras\": Supreme Court Chief Justices during that time.)\n",
    "http://journals.sagepub.com/doi/pdf/10.1177/0049124198026003004\n",
    "\n",
    "### - Software Analysis: \n",
    "An application of zero-inflated Poisson regression for software fault prediction.\n",
    "\n",
    "### - Traffic Engineering:\n",
    "Modeling crashes involving pedestrians and motorized traffic\n",
    "\n",
    "### - Genetics: \n",
    "A zero-inflated poisson model for genetic analysis of the number of mastitis cases in Norwegian Red cows."
   ]
  },
  {
   "cell_type": "markdown",
   "metadata": {
    "slideshow": {
     "slide_type": "slide"
    }
   },
   "source": [
    "# Outline\n",
    "\n",
    "##  -  ~~Intro: Zero Inflation~~\n",
    "<h1> - ML and EM Equations </h1>\n",
    "##  -  Algorithm flowchart\n",
    "##  -  Classes and Methods \n",
    "##  -  Usage\n",
    "##  -  Results\n",
    "##  -  To Do"
   ]
  },
  {
   "cell_type": "code",
   "execution_count": null,
   "metadata": {
    "collapsed": true,
    "slideshow": {
     "slide_type": "slide"
    }
   },
   "outputs": [],
   "source": []
  },
  {
   "cell_type": "markdown",
   "metadata": {
    "slideshow": {
     "slide_type": "slide"
    }
   },
   "source": [
    "# Outline\n",
    "\n",
    "##  -  ~~Intro: Zero Inflation~~\n",
    "##  -  ~~ML and EM Equations~~\n",
    "<h1> - Algorithm flowchart </h1>\n",
    "##  -  Classes and Methods \n",
    "##  -  Usage\n",
    "##  -  Results\n",
    "##  -  To Do"
   ]
  },
  {
   "cell_type": "code",
   "execution_count": null,
   "metadata": {
    "collapsed": true,
    "slideshow": {
     "slide_type": "slide"
    }
   },
   "outputs": [],
   "source": []
  },
  {
   "cell_type": "markdown",
   "metadata": {
    "slideshow": {
     "slide_type": "slide"
    }
   },
   "source": [
    "# Outline\n",
    "\n",
    "##  -  ~~Intro: Zero Inflation~~\n",
    "##  -  ~~ML and EM Equations~~\n",
    "##  -  ~~Algorithm flowchart~~\n",
    "<h1> - Classes and Methods </h1>\n",
    "##  -  Usage\n",
    "##  -  Results\n",
    "##  -  To Do"
   ]
  },
  {
   "cell_type": "markdown",
   "metadata": {
    "slideshow": {
     "slide_type": "slide"
    }
   },
   "source": [
    "# Classes and Methods\n",
    "\n",
    " - LinkClass\n",
    "   - Instance Methods: link, link_inv, link_inv_deriv\n",
    " - Classes Inheriting LinkClass: Logit, Probit, CLogLog, Cauchit, Log\n",
    " - ZeroInflated\n",
    "    - Instance Methods:\n",
    "      - ziPoisson, ziNegBin, ziGeom\n",
    "      - gradPoisson, gradNegBin, gradGeom\n",
    "      - EM_estimate\n",
    "      - fit\n",
    "      - setter methods\n",
    "    - Static Methods:\n",
    "      - convert_params\n",
    "      - argument processing methods (dist, formula, link)\n",
    " - ZeroInflatedResults\n",
    "    - Instance methods: summary, printModel, predict, vcov "
   ]
  },
  {
   "cell_type": "markdown",
   "metadata": {
    "slideshow": {
     "slide_type": "slide"
    }
   },
   "source": [
    "# Outline\n",
    "\n",
    "##  -  ~~Intro: Zero Inflation~~\n",
    "##  -  ~~ML and EM Equations~~\n",
    "##  -  ~~Algorithm flowchart~~\n",
    "##  -  ~~Classes and Methods~~\n",
    "<h1> - Usage </h1>\n",
    "##  -  Results\n",
    "##  -  To Do"
   ]
  },
  {
   "cell_type": "markdown",
   "metadata": {
    "slideshow": {
     "slide_type": "slide"
    }
   },
   "source": [
    "#### ZeroInflated(formula_str, df, params): \n",
    " - Creates an instance of class ZeroInflated.\n",
    " - Default params: dist = 'poisson', link = 'logit'\n",
    "\n",
    "#### ZeroInflated(formula_str, df).fit(params): \n",
    " - Returns an instance of class ZeroInflatedResults.\n",
    " - Default params: EM = True, method = BFGS\n",
    " \n",
    "#### ZeroInflated(formula_str, df).EM_estimate():\n",
    " - Returns EM estimates of model as dict of pandas series.\n",
    "\n",
    "#### ZeroInflated(formula_str, df).fit(params).method:\n",
    " - method = summary, printModel, predict, vcov\n"
   ]
  },
  {
   "cell_type": "code",
   "execution_count": 1,
   "metadata": {
    "slideshow": {
     "slide_type": "slide"
    }
   },
   "outputs": [
    {
     "name": "stderr",
     "output_type": "stream",
     "text": [
      "/anaconda/lib/python3.6/site-packages/statsmodels/compat/pandas.py:56: FutureWarning: The pandas.core.datetools module is deprecated and will be removed in a future version. Please use the pandas.tseries module instead.\n",
      "  from pandas.core import datetools\n"
     ]
    }
   ],
   "source": [
    "from zeroinfl import *\n",
    "\n",
    "\n",
    "import numpy as np\n",
    "import pandas as pd\n",
    "from pandas.core import datetools\n",
    "\n",
    "df = pd.read_csv('DebTrivedi.csv',index_col = [0])\n",
    "sel = np.array([1, 6, 7, 8, 13, 15, 18])-1\n",
    "df = df.iloc[:,sel]\n",
    "\n",
    "formula_str = 'ofp ~ hosp + health + numchron + gender + school + privins | health'"
   ]
  },
  {
   "cell_type": "markdown",
   "metadata": {
    "slideshow": {
     "slide_type": "slide"
    }
   },
   "source": [
    "# Usage: fit()"
   ]
  },
  {
   "cell_type": "code",
   "execution_count": 2,
   "metadata": {
    "slideshow": {
     "slide_type": "slide"
    }
   },
   "outputs": [
    {
     "data": {
      "text/plain": [
       "Call:\n",
       "    ZeroInflated(formula_str='ofp ~ hosp + health + numchron + gender + school + privins | health', data=df, dist='poisson', offsetx=None, offsetz=None, link='logit', weights=None, missing='none')\n",
       "\n",
       "formula:\n",
       "    ofp ~ hosp + health + numchron + gender + school + privins | health\n",
       "dist: poisson\n",
       "link: logit\n",
       "linkobj:\n",
       "    linkstr: logit\n",
       "    link: log(p/(1-p))\n",
       "    linkinv: exp(eta)/(1+exp(eta))\n",
       "Message: Optimization terminated successfully.\n",
       "Result: \n",
       "    Count:\n",
       "Intercept              1.393671948862\n",
       "health[T.excellent]   -0.307753660409\n",
       "health[T.poor]         0.254201322909\n",
       "gender[T.male]        -0.064859143868\n",
       "privins[T.yes]         0.085441066716\n",
       "hosp                   0.159127058413\n",
       "numchron               0.103280224020\n",
       "school                 0.019591000079\n",
       "dtype: float64\n",
       "    Zero:\n",
       "Intercept             -1.733641644220\n",
       "health[T.excellent]    0.474905518428\n",
       "health[T.poor]        -0.399155782468\n",
       "dtype: float64 \n",
       "df_null: 4404 \n",
       "df_resid: 4395"
      ]
     },
     "execution_count": 2,
     "metadata": {},
     "output_type": "execute_result"
    }
   ],
   "source": [
    "ZeroInflated(formula_str, df).fit()"
   ]
  },
  {
   "cell_type": "markdown",
   "metadata": {
    "slideshow": {
     "slide_type": "slide"
    }
   },
   "source": [
    "# Usage: printModel()"
   ]
  },
  {
   "cell_type": "code",
   "execution_count": 3,
   "metadata": {
    "slideshow": {
     "slide_type": "slide"
    }
   },
   "outputs": [
    {
     "name": "stdout",
     "output_type": "stream",
     "text": [
      "\n",
      "Call:\n",
      "ZeroInflated(formula_str='ofp ~ hosp + health + numchron + gender + school + privins | health', data=df, dist='poisson', offsetx=None, offsetz=None, link='logit', weights=None, missing='none')\n",
      "\n",
      "Count model cefficients (poisson log link): \n",
      "  Intercept health[T.excellent] health[T.poor] gender[T.male] privins[T.yes]  \\\n",
      "    1.39367            -0.30775        0.25420       -0.06486        0.08544   \n",
      "\n",
      "      hosp numchron   school  \n",
      "   0.15913  0.10328  0.01959  \n",
      "\n",
      "\n",
      "Zero-inflation model coefficients (binomial with logit link): \n",
      "  Intercept health[T.excellent] health[T.poor]\n",
      "   -1.73364             0.47491       -0.39916\n"
     ]
    }
   ],
   "source": [
    "ZeroInflated(formula_str, df).fit().printModel()"
   ]
  },
  {
   "cell_type": "markdown",
   "metadata": {
    "slideshow": {
     "slide_type": "slide"
    }
   },
   "source": [
    "# Results from pscl package in R: print()"
   ]
  },
  {
   "cell_type": "markdown",
   "metadata": {
    "slideshow": {
     "slide_type": "slide"
    }
   },
   "source": [
    "<pre>\n",
    "> model &lt;- pscl::zeroinfl(ofp ~ health+gender+privins+hosp+numchron+school| health,\n",
    "  data = dt, dist = 'poisson')\n",
    "> print(model)\n",
    "\n",
    "Call:\n",
    "pscl::zeroinfl(formula = ofp ~ health + gender + privins + hosp + numchron + school | health,\n",
    "    data = dt, dist = \"poisson\")\n",
    "\n",
    "Count model coefficients (poisson with log link):\n",
    "  (Intercept)   healthpoor  healthexcellent   gendermale   privinsyes     hosp  \n",
    "      1.39367      0.25420         -0.30775     -0.06486      0.08544  0.15913  \n",
    "     numchron       school  \n",
    "      0.10328      0.01959  \n",
    "\n",
    "Zero-inflation model coefficients (binomial with logit link):\n",
    "    (Intercept)       healthpoor  healthexcellent  \n",
    "        -1.7336          -0.3992           0.4749 \n",
    "</pre>"
   ]
  },
  {
   "cell_type": "markdown",
   "metadata": {
    "slideshow": {
     "slide_type": "slide"
    }
   },
   "source": [
    "# Usage: summary()"
   ]
  },
  {
   "cell_type": "code",
   "execution_count": 4,
   "metadata": {
    "slideshow": {
     "slide_type": "slide"
    }
   },
   "outputs": [
    {
     "name": "stdout",
     "output_type": "stream",
     "text": [
      "\n",
      "Call:\n",
      "ZeroInflated(formula_str='ofp ~ hosp + health + numchron + gender + school + privins | health', data=df, dist='poisson', offsetx=None, offsetz=None, link='logit', weights=None, missing='none')\n",
      "\n",
      "Pearson residuals:\n",
      "       Min        1Q    Median        3Q       Max\n",
      " -28.81532  -3.64394  -1.42507   1.97142  72.65782\n",
      "\n",
      "\n",
      "Count model cefficients (poisson log link): \n",
      "                    |  Estimate|Std. Error|   z value|  Pr(>|z|)\n",
      "----------------------------------------------------------------\n",
      "           Intercept|    1.3937|    0.0245|     56.86|    <2e-16\n",
      " health[T.excellent]|   -0.3078|    0.0314|    -9.791|    <2e-16\n",
      "      health[T.poor]|    0.2542|    0.0177|    14.339|    <2e-16\n",
      "      gender[T.male]|   -0.0649|    0.0131|    -4.946| 7.5608e-7\n",
      "      privins[T.yes]|    0.0854|    0.0173|     4.936| 7.9923e-7\n",
      "                hosp|    0.1591|    0.0061|    26.262|    <2e-16\n",
      "            numchron|    0.1033|    0.0047|    21.805|    <2e-16\n",
      "              school|    0.0196|    0.0019|    10.393|    <2e-16\n",
      "\n",
      "\n",
      "Zero-inflation model coefficients (binomial with logit link): \n",
      "                    |  Estimate|Std. Error|   z value|  Pr(>|z|)\n",
      "----------------------------------------------------------------\n",
      "           Intercept|   -1.7336|    0.0481|    -36.04|    <2e-16\n",
      " health[T.excellent]|    0.4749|    0.1455|     3.265| 1.0960e-3\n",
      "      health[T.poor]|   -0.3992|    0.1466|    -2.724| 6.4570e-3\n",
      "---\n",
      "Number of iterations in BFGS optimization: 13\n",
      "Log-likelihood: -1.629e+4 on 11 Df.\n"
     ]
    }
   ],
   "source": [
    "ZeroInflated(formula_str, df).fit().summary()"
   ]
  },
  {
   "cell_type": "markdown",
   "metadata": {},
   "source": [
    "# Results from pscl package in R: summary()"
   ]
  },
  {
   "cell_type": "markdown",
   "metadata": {
    "slideshow": {
     "slide_type": "slide"
    }
   },
   "source": [
    "<pre>\n",
    "\n",
    "> summary(model)\n",
    "\n",
    "Call:\n",
    "pscl::zeroinfl(formula = ofp ~ health + gender + privins + hosp + numchron + school | health, \n",
    "    data = dt, dist = \"poisson\")\n",
    "\n",
    "Pearson residuals:\n",
    "    Min      1Q  Median      3Q     Max \n",
    "-2.5417 -1.2132 -0.4612  0.5889 25.1526 \n",
    "\n",
    "Count model coefficients (poisson with log link):\n",
    "                 Estimate Std. Error z value Pr(>|z|)    \n",
    "(Intercept)      1.393672   0.024506  56.870  < 2e-16 ***\n",
    "healthpoor       0.254201   0.017726  14.340  < 2e-16 ***\n",
    "healthexcellent -0.307754   0.031428  -9.792  < 2e-16 ***\n",
    "gendermale      -0.064859   0.013111  -4.947 7.54e-07 ***\n",
    "privinsyes       0.085441   0.017310   4.936 7.97e-07 ***\n",
    "hosp             0.159127   0.006059  26.262  < 2e-16 ***\n",
    "numchron         0.103280   0.004736  21.806  < 2e-16 ***\n",
    "school           0.019591   0.001885  10.395  < 2e-16 ***\n",
    "\n",
    "Zero-inflation model coefficients (binomial with logit link):\n",
    "                Estimate Std. Error z value Pr(>|z|)    \n",
    "(Intercept)     -1.73364    0.04809 -36.050  < 2e-16 ***\n",
    "healthpoor      -0.39916    0.14655  -2.724  0.00646 ** \n",
    "healthexcellent  0.47490    0.14542   3.266  0.00109 ** \n",
    "---\n",
    "Signif. codes:  0 '***' 0.001 '**' 0.01 '*' 0.05 '.' 0.1 ' ' 1 \n",
    "\n",
    "Number of iterations in BFGS optimization: 17 \n",
    "Log-likelihood: -1.629e+04 on 11 Df\n",
    "</pre>"
   ]
  },
  {
   "cell_type": "markdown",
   "metadata": {
    "slideshow": {
     "slide_type": "slide"
    }
   },
   "source": [
    "# Outline\n",
    "\n",
    "## - ~~Intro: Zero Inflation~~\n",
    "## - ~~ML and EM Equations~~\n",
    "## - ~~Algorithm flowchart~~\n",
    "## - ~~Classes and Methods~~\n",
    "## - ~~Usage~~\n",
    "<h1> - Results</h1>\n",
    "##  -  To Do"
   ]
  },
  {
   "cell_type": "markdown",
   "metadata": {
    "slideshow": {
     "slide_type": "slide"
    }
   },
   "source": [
    "# Results\n",
    "\n",
    "#### Zero Inflated Poisson: logit link\n",
    "\n",
    "<table>\n",
    "  <tr>\n",
    "    <th>Count:</th>\n",
    "    <th>Python</th> \n",
    "    <th>R</th>\n",
    "  </tr>\n",
    "  <tr>\n",
    "    <th>Intercept</th>\n",
    "    <th><b>1.39367</th> \n",
    "    <th><b>1.39367</th>\n",
    "  </tr>\n",
    "  <tr>\n",
    "    <th>health[T.excellent]</th>\n",
    "    <th><b>-0.30775</th> \n",
    "    <th><b>-0.30775</th>\n",
    "  </tr>\n",
    "  <tr>\n",
    "    <th>health[T.poor]</th>\n",
    "    <th><b>0.25420</th> \n",
    "    <th><b>0.25420</th>\n",
    "  </tr>\n",
    "  <tr>\n",
    "    <th>gender[T.male]</th>\n",
    "    <th><b>-0.06486</th> \n",
    "    <th><b>-0.06486</th>\n",
    "  </tr>\n",
    "  <tr>\n",
    "    <th>privins[T.yes]</th>\n",
    "    <th><b>0.08544</th> \n",
    "    <th><b>0.08544</th>\n",
    "  </tr>\n",
    "  <tr>\n",
    "    <th>hosp</th>\n",
    "    <th><b>0.15913</th> \n",
    "    <th><b>0.15913</th>\n",
    "  </tr>\n",
    "  <tr>\n",
    "    <th>numchron</th>\n",
    "    <th><b>0.10328</th> \n",
    "    <th><b>0.10328</th>\n",
    "  </tr>\n",
    "  <tr>\n",
    "    <th>school</th>\n",
    "    <th><b>0.01959</th> \n",
    "    <th><b>0.01959</th>\n",
    "  </tr>\n",
    "</table> \n",
    "<table>\n",
    "  <tr>\n",
    "    <th>Zero:</th>\n",
    "    <th>Python</th> \n",
    "    <th>R</th>\n",
    "  </tr> \n",
    "  <tr>\n",
    "    <th>Intercept</th>\n",
    "    <th><b>-1.73364</th> \n",
    "    <th><b>-1.73364</th>\n",
    "  </tr>\n",
    "  <tr>\n",
    "    <th>health[T.excellent]</th>\n",
    "    <th><b>0.47490</th> \n",
    "    <th><b>0.47489</th>\n",
    "  </tr>\n",
    "  <tr>\n",
    "    <th>health[T.poor]</th>\n",
    "    <th><b>-0.39916</th> \n",
    "    <th><b>-0.39916</th>\n",
    "  </tr>\n",
    " </table>"
   ]
  },
  {
   "cell_type": "code",
   "execution_count": null,
   "metadata": {
    "collapsed": true,
    "slideshow": {
     "slide_type": "skip"
    }
   },
   "outputs": [],
   "source": [
    "1+1"
   ]
  },
  {
   "cell_type": "markdown",
   "metadata": {
    "slideshow": {
     "slide_type": "notes"
    }
   },
   "source": [
    "<pre>\n",
    "     Count:                Python                R\n",
    "Intercept              <b>1.39367</b>1948862    <b>1.39367</b>0893326 <br>\n",
    "health[T.excellent]   <b>-0.30775</b>3660409   <b>-0.30775</b>7302953 <br>\n",
    "health[T.poor]         <b>0.2542013</b>22909    <b>0.2542013</b>58538 <br>\n",
    "gender[T.male]        <b>-0.064859</b>143868   <b>-0.064859</b>352279 <br>\n",
    "privins[T.yes]         <b>0.085441</b>066716    <b>0.085441</b>351362 <br>\n",
    "hosp                   <b>0.1591270</b>58413    <b>0.1591270</b>73461 <br>\n",
    "numchron               <b>0.103280</b>224020    <b>0.103280</b>340077 <br>\n",
    "school                 <b>0.0195910</b>00079    <b>0.0195910</b>78569 <br>\n",
    "    Zero:\n",
    "Intercept             <b>-1.73364</b>1644220   <b>-1.73364</b>2401609 <br>\n",
    "health[T.excellent]    <b>0.474</b>905518428    <b>0.474</b>886145700 <br>\n",
    "health[T.poor]        <b>-0.399155</b>782468   <b>-0.399155</b>156555 <br>\n",
    "</pre> "
   ]
  },
  {
   "cell_type": "markdown",
   "metadata": {
    "collapsed": true,
    "slideshow": {
     "slide_type": "slide"
    }
   },
   "source": [
    "# Results\n",
    "\n",
    "#### Zero Inflated Geometric: logit link\n",
    "\n",
    "<table>\n",
    "  <tr>\n",
    "    <th>Count:</th>\n",
    "    <th>Python</th> \n",
    "    <th>R</th>\n",
    "  </tr>\n",
    "  <tr>\n",
    "    <th>Intercept</th>\n",
    "    <th><b>0.92523</th> \n",
    "    <th><b>0.92523</th>\n",
    "  </tr>\n",
    "  <tr>\n",
    "    <th>health[T.excellent]</th>\n",
    "    <th><b>-0.34160</th> \n",
    "    <th><b>-0.34160</th>\n",
    "  </tr>\n",
    "  <tr>\n",
    "    <th>health[T.poor]</th>\n",
    "    <th><b>0.31351</th> \n",
    "    <th><b>0.31352</th>\n",
    "  </tr>\n",
    "  <tr>\n",
    "    <th>gender[T.male]</th>\n",
    "    <th><b>-0.12678</th> \n",
    "    <th><b>-0.12678</th>\n",
    "  </tr>\n",
    "  <tr>\n",
    "    <th>privins[T.yes]</th>\n",
    "    <th><b>0.22483</th> \n",
    "    <th><b>0.22483</th>\n",
    "  </tr>\n",
    "  <tr>\n",
    "    <th>hosp</th>\n",
    "    <th><b>0.22057</th> \n",
    "    <th><b>0.22057</th>\n",
    "  </tr>\n",
    "  <tr>\n",
    "    <th>numchron</th>\n",
    "    <th><b>0.17603</th> \n",
    "    <th><b>0.17603</th>\n",
    "  </tr>\n",
    "  <tr>\n",
    "    <th>school</th>\n",
    "    <th><b>0.02689</th> \n",
    "    <th><b>0.02689</th>\n",
    "  </tr>\n",
    "</table> \n",
    "<table>\n",
    "  <tr>\n",
    "    <th>Zero:</th>\n",
    "    <th>Python</th> \n",
    "    <th>R</th>\n",
    "  </tr> \n",
    "  <tr>\n",
    "    <th>Intercept</th>\n",
    "    <th><b>-24.34361</th> \n",
    "    <th><b>-24.33868</th>\n",
    "  </tr>\n",
    "  <tr>\n",
    "    <th>health[T.excellent]</th>\n",
    "    <th><b>10.00308</th> \n",
    "    <th><b>9.99858</th>\n",
    "  </tr>\n",
    "  <tr>\n",
    "    <th>health[T.poor]</th>\n",
    "    <th><b>19.44489</th> \n",
    "    <th><b>19.43996</th>\n",
    "  </tr>\n",
    " </table>"
   ]
  },
  {
   "cell_type": "markdown",
   "metadata": {
    "collapsed": true,
    "slideshow": {
     "slide_type": "notes"
    }
   },
   "source": [
    "<pre>\n",
    "[1] \"coefc\"\n",
    "      (Intercept)        healthpoor   healthexcellent        gendermale        privinsyes \n",
    " \"0.925231667760\"  \"0.313515063145\" \"-0.341604225196\" \"-0.126783064898\"  \"0.224834857091\" \n",
    "             hosp          numchron            school \n",
    " \"0.220568006945\"  \"0.176031530196\"  \"0.026889883133\" \n",
    "[1] \"coefz\"\n",
    "       (Intercept)         healthpoor    healthexcellent \n",
    "\"-24.338681295277\"  \"19.439964441846\"   \"9.998584332354\" \n",
    "\n",
    "Intercept              0.925231667776\n",
    "health[T.excellent]   -0.341604225401\n",
    "health[T.poor]         0.313515063204\n",
    "gender[T.male]        -0.126783064877\n",
    "privins[T.yes]         0.224834857129\n",
    "hosp                   0.220568006986\n",
    "numchron               0.176031530270\n",
    "school                 0.026889883630\n",
    "dtype: float64\n",
    "    Zero:\n",
    "Intercept             -24.343611162596\n",
    "health[T.excellent]    10.003075597691\n",
    "health[T.poor]         19.444894315458\n",
    "</pre>"
   ]
  },
  {
   "cell_type": "markdown",
   "metadata": {
    "slideshow": {
     "slide_type": "skip"
    }
   },
   "source": [
    "<table style=\"float: left;\">"
   ]
  },
  {
   "cell_type": "markdown",
   "metadata": {
    "slideshow": {
     "slide_type": "slide"
    }
   },
   "source": [
    "# Results\n",
    "\n",
    "#### Zero Inflated Negative Binomial: logit link\n",
    "\n",
    "\n",
    "<table>\n",
    "  <tr>\n",
    "    <th>Count:</th>\n",
    "    <th>Python</th> \n",
    "    <th>R</th>\n",
    "  </tr>\n",
    "  <tr>\n",
    "    <th>Intercept</th>\n",
    "    <th><b>0.94181</th> \n",
    "    <th><b>0.94206</th>\n",
    "  </tr>\n",
    "  <tr>\n",
    "    <th>health[T.excellent]</th>\n",
    "    <th><b>-0.32944</th> \n",
    "    <th><b>-0.32945</th>\n",
    "  </tr>\n",
    "  <tr>\n",
    "    <th>health[T.poor]</th>\n",
    "    <th><b>0.32891</th> \n",
    "    <th><b>0.32884</th>\n",
    "  </tr>\n",
    "  <tr>\n",
    "    <th>gender[T.male]</th>\n",
    "    <th><b>-0.12468</th> \n",
    "    <th><b>-0.12465</th>\n",
    "  </tr>\n",
    "  <tr>\n",
    "    <th>privins[T.yes]</th>\n",
    "    <th><b>0.21839</th> \n",
    "    <th><b>0.21832</th>\n",
    "  </tr>\n",
    "  <tr>\n",
    "    <th>hosp</th>\n",
    "    <th><b>0.22252</th> \n",
    "    <th><b>0.22250</th>\n",
    "  </tr>\n",
    "  <tr>\n",
    "    <th>numchron</th>\n",
    "    <th><b>0.17366</th> \n",
    "    <th><b>0.17363</th>\n",
    "  </tr>\n",
    "  <tr>\n",
    "    <th>school</th>\n",
    "    <th><b>0.02667</th> \n",
    "    <th><b>0.02667</th>\n",
    "  </tr>\n",
    "  <tr>\n",
    "    <th>theta</th>\n",
    "    <th><b>1.25876</th> \n",
    "    <th><b>1.25925</th>\n",
    "  </tr>\n",
    "</table> \n",
    "<table>\n",
    "  <tr>\n",
    "    <th>Zero:</th>\n",
    "    <th>Python</th> \n",
    "    <th>R</th>\n",
    "  </tr> \n",
    "  <tr>\n",
    "    <th>Intercept</th>\n",
    "    <th><b>-5.04317</th> \n",
    "    <th><b>-5.02321</th>\n",
    "  </tr>\n",
    "  <tr>\n",
    "    <th>health[T.excellent]</th>\n",
    "    <th><b>1.08234</th> \n",
    "    <th><b>1.06984</th>\n",
    "  </tr>\n",
    "  <tr>\n",
    "    <th>health[T.poor]</th>\n",
    "    <th><b>1.61952</th> \n",
    "    <th><b>1.60087</th>\n",
    "  </tr>\n",
    " </table>\n",
    "  "
   ]
  },
  {
   "cell_type": "markdown",
   "metadata": {
    "slideshow": {
     "slide_type": "notes"
    }
   },
   "source": [
    "<pre>\n",
    "\n",
    "[1] \"coefc\"\n",
    "      (Intercept)        healthpoor   healthexcellent        gendermale        privinsyes \n",
    " \"0.942057654663\"  \"0.328837434988\" \"-0.329449197037\" \"-0.124653450217\"  \"0.218318709658\" \n",
    "             hosp          numchron            school \n",
    " \"0.222499553909\"  \"0.173632997381\"  \"0.026670468563\" \n",
    "[1] \"coefz\"\n",
    "      (Intercept)        healthpoor   healthexcellent \n",
    "\"-5.023207307752\"  \"1.600869449193\"  \"1.069841367704\" \n",
    "\n",
    "1.259252\n",
    "\n",
    "Count:\n",
    "Intercept              0.941806420063\n",
    "health[T.excellent]   -0.329441603517\n",
    "health[T.poor]         0.328911163875\n",
    "gender[T.male]        -0.124682074792\n",
    "privins[T.yes]         0.218385934913\n",
    "hosp                   0.222516202169\n",
    "numchron               0.173664131132\n",
    "school                 0.026673431561\n",
    "dtype: float64\n",
    "    Zero:\n",
    "Intercept             -5.043170380636\n",
    "health[T.excellent]    1.082340977632\n",
    "health[T.poor]         1.619517646169\n",
    "dtype: float64\n",
    "    theta: 1.258759013055\n",
    "    \n",
    "</pre>"
   ]
  },
  {
   "cell_type": "markdown",
   "metadata": {
    "slideshow": {
     "slide_type": "skip"
    }
   },
   "source": []
  },
  {
   "cell_type": "markdown",
   "metadata": {
    "slideshow": {
     "slide_type": "skip"
    }
   },
   "source": []
  },
  {
   "cell_type": "markdown",
   "metadata": {
    "slideshow": {
     "slide_type": "skip"
    }
   },
   "source": [
    "# Results\n",
    "\n",
    "#### EM Estimates : Negative Binomial - logit link"
   ]
  },
  {
   "cell_type": "markdown",
   "metadata": {
    "slideshow": {
     "slide_type": "notes"
    }
   },
   "source": [
    "<pre>\n",
    "\n",
    "X(Intercept)      Xhealthpoor Xhealthexcellent      Xgendermale      Xprivinsyes            Xhosp \n",
    "      0.94205767       0.32883744      -0.32944920      -0.12465344       0.21831872       0.22249956 \n",
    "       Xnumchron          Xschool      (Intercept)       healthpoor  healthexcellent                  \n",
    "      0.17363302       0.02667065      -5.02320729       1.60086945       1.06984137       1.25925174 \n",
    "\n",
    "'count': Intercept              0.954974381655\n",
    " health[T.excellent]   -0.327874794327\n",
    " health[T.poor]         0.326516269194\n",
    " gender[T.male]        -0.123146816220\n",
    " privins[T.yes]         0.214741701073\n",
    " hosp                   0.221704399479\n",
    " numchron               0.171967040735\n",
    " school                 0.026517080356\n",
    " dtype: float64,\n",
    " 'theta': 1.3041686363328413,\n",
    " 'zero': Intercept             -4.346081634494\n",
    " health[T.excellent]    0.779900134789\n",
    " health[T.poor]         1.028712964862\n",
    " \n",
    " \n",
    " {'count': Intercept              0.955026768001\n",
    " health[T.excellent]   -0.328340961291\n",
    " health[T.poor]         0.326467123313\n",
    " gender[T.male]        -0.123137317112\n",
    " privins[T.yes]         0.214724028049\n",
    " hosp                   0.221700415560\n",
    " numchron               0.171962400311\n",
    " school                 0.026519172037\n",
    " dtype: float64,\n",
    " 'theta': 1.3041521885175773,\n",
    " 'zero': Intercept             -4.341598946074\n",
    " health[T.excellent]    0.759895412523\n",
    " health[T.poor]         1.024220944035\n",
    " dtype: float64}\n",
    " \n",
    " </pre>"
   ]
  },
  {
   "cell_type": "markdown",
   "metadata": {
    "collapsed": true,
    "slideshow": {
     "slide_type": "slide"
    }
   },
   "source": [
    "# Outline\n",
    "\n",
    "## - ~~Intro: Zero Inflation~~\n",
    "## - ~~ML and EM Equations~~\n",
    "## - ~~Algorithm flowchart~~\n",
    "## - ~~Classes and Methods~~\n",
    "## - ~~Usage~~\n",
    "## - ~~Results~~\n",
    "<h1> - To Do</h1>\n"
   ]
  },
  {
   "cell_type": "markdown",
   "metadata": {
    "slideshow": {
     "slide_type": "slide"
    }
   },
   "source": [
    "- Major:\n",
    "  - Summary statistics, predict()\n",
    "  - Vuong's Test\n",
    "  - Testing on 4 more datasets\n",
    "- Minor:\n",
    "  - Dealing with missing values\n",
    "  - Functions docs\n",
    "  - Use standard names for ZeoInflatedResults class attributes \n",
    "    (eg from python glm results class names)\n",
    "- Exploring:\n",
    "  - Should ZeroInflatedResults class be inherited from ZeroInflated class\n",
    "  - Should ZeroInflated class be inherited from Loglikelihood class\n",
    "- Future:\n",
    "  - Regularized optimization for ZIP, ZINB, ZIG\n",
    "  - Negative Binomial regression with joint estimation of theta and mu with variable weights.\n",
    "  - Use above for optimal EM estimation of starting values for ZINB."
   ]
  },
  {
   "cell_type": "markdown",
   "metadata": {
    "collapsed": true,
    "slideshow": {
     "slide_type": "notes"
    }
   },
   "source": [
    "from current Slides folder, in terminal:\n",
    "\n",
    "jupyter nbconvert Slides.ipynb --to slides --post serve\n",
    "\n",
    "http://nbconvert.readthedocs.io/en/latest/usage.html for \n",
    "\n",
    "jupyter nbconvert Slides.ipynb --to slides\n",
    "\n",
    "then move it to main folder to check\n",
    "\n",
    "To change on project website, rename it to index.html and push."
   ]
  },
  {
   "cell_type": "code",
   "execution_count": null,
   "metadata": {
    "collapsed": true,
    "slideshow": {
     "slide_type": "skip"
    }
   },
   "outputs": [],
   "source": []
  },
  {
   "cell_type": "markdown",
   "metadata": {
    "slideshow": {
     "slide_type": "slide"
    }
   },
   "source": []
  }
 ],
 "metadata": {
  "celltoolbar": "Slideshow",
  "kernelspec": {
   "display_name": "Python 3",
   "language": "python",
   "name": "python3"
  },
  "language_info": {
   "codemirror_mode": {
    "name": "ipython",
    "version": 3
   },
   "file_extension": ".py",
   "mimetype": "text/x-python",
   "name": "python",
   "nbconvert_exporter": "python",
   "pygments_lexer": "ipython3",
   "version": "3.5.2"
  }
 },
 "nbformat": 4,
 "nbformat_minor": 2
}
