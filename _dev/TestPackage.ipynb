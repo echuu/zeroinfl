{
 "cells": [
  {
   "cell_type": "code",
   "execution_count": 1,
   "metadata": {},
   "outputs": [
    {
     "name": "stderr",
     "output_type": "stream",
     "text": [
      "/anaconda/lib/python3.6/site-packages/statsmodels/compat/pandas.py:56: FutureWarning: The pandas.core.datetools module is deprecated and will be removed in a future version. Please use the pandas.tseries module instead.\n",
      "  from pandas.core import datetools\n"
     ]
    }
   ],
   "source": [
    "from zeroinfl import *"
   ]
  },
  {
   "cell_type": "code",
   "execution_count": 12,
   "metadata": {
    "collapsed": true
   },
   "outputs": [],
   "source": [
    "### Lines below will not go inside the function\n",
    "import numpy as np\n",
    "import pandas as pd\n",
    "\n",
    "df = pd.read_csv('DebTrivedi.csv',index_col = [0])\n",
    "sel = np.array([1, 6, 7, 8, 13, 15, 18])-1\n",
    "df = df.iloc[:,sel]\n",
    "# produce design matrices from R-style formula\n",
    "formula_str = 'ofp ~ hosp + health + numchron + gender + school + privins | health'"
   ]
  },
  {
   "cell_type": "code",
   "execution_count": 5,
   "metadata": {
    "collapsed": true
   },
   "outputs": [],
   "source": [
    "dd3 = df"
   ]
  },
  {
   "cell_type": "code",
   "execution_count": 11,
   "metadata": {
    "collapsed": true
   },
   "outputs": [],
   "source": [
    "dd3 = None"
   ]
  },
  {
   "cell_type": "code",
   "execution_count": 13,
   "metadata": {},
   "outputs": [
    {
     "name": "stderr",
     "output_type": "stream",
     "text": [
      "/Users/newuser/AnacondaProjects/STAT689/zeroinfl/zeroinfl/zeroinfl.py:407: UserWarning: EM estimation of starting values not optimal for Negetive Binomial.\n",
      "  warnings.warn('EM estimation of starting values not optimal for Negetive Binomial.')\n"
     ]
    },
    {
     "data": {
      "text/plain": [
       "Call:\n",
       "    ZeroInflated(formula_str='ofp ~ hosp + health + numchron + gender + school + privins | health', data=df, dist='negbin', offsetx=None, offsetz=None, link='logit', weights=None, missing='none')\n",
       "\n",
       "formula:\n",
       "    ofp ~ hosp + health + numchron + gender + school + privins | health\n",
       "dist: negbin\n",
       "link: logit\n",
       "linkobj:\n",
       "    linkstr: logit\n",
       "    link: log(p/(1-p))\n",
       "    linkinv: exp(eta)/(1+exp(eta))\n",
       "Message: Optimization terminated successfully.\n",
       "Result: \n",
       "    Count:\n",
       "Intercept              0.941806420063\n",
       "health[T.excellent]   -0.329441603517\n",
       "health[T.poor]         0.328911163875\n",
       "gender[T.male]        -0.124682074792\n",
       "privins[T.yes]         0.218385934913\n",
       "hosp                   0.222516202169\n",
       "numchron               0.173664131132\n",
       "school                 0.026673431561\n",
       "dtype: float64\n",
       "    Zero:\n",
       "Intercept             -5.043170380636\n",
       "health[T.excellent]    1.082340977632\n",
       "health[T.poor]         1.619517646169\n",
       "dtype: float64\n",
       "    theta: 1.258759013055\n",
       "df_null: 4404 \n",
       "df_resid: 4394"
      ]
     },
     "execution_count": 13,
     "metadata": {},
     "output_type": "execute_result"
    }
   ],
   "source": [
    "ZeroInflated(formula_str,df,dist='negbin').fit()"
   ]
  },
  {
   "cell_type": "code",
   "execution_count": null,
   "metadata": {
    "collapsed": true
   },
   "outputs": [],
   "source": []
  }
 ],
 "metadata": {
  "kernelspec": {
   "display_name": "Python 3",
   "language": "python",
   "name": "python3"
  },
  "language_info": {
   "codemirror_mode": {
    "name": "ipython",
    "version": 3
   },
   "file_extension": ".py",
   "mimetype": "text/x-python",
   "name": "python",
   "nbconvert_exporter": "python",
   "pygments_lexer": "ipython3",
   "version": "3.6.1"
  }
 },
 "nbformat": 4,
 "nbformat_minor": 2
}
