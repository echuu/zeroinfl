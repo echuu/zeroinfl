{
 "cells": [
  {
   "cell_type": "markdown",
   "metadata": {},
   "source": [
    "`method <- control$method\n",
    "hessian <- control$hessian\n",
    "ocontrol <- control\n",
    "control$method <- control$hessian <- control$EM <- control$start <- NULL\n",
    "fit <- optim(fn = loglikfun, gr = gradfun,\n",
    "   par = c(start$count, start$zero, if(dist == \"negbin\") log(start$theta) else NULL),\n",
    "   method = method, hessian = hessian, control = control)\n",
    "if(fit$convergence > 0) warning(\"optimization failed to converge\")`\n",
    "\n",
    "`## coefficients and covariances\n",
    "coefc <- fit$par[1:kx]\n",
    "names(coefc) <- names(start$count) <- colnames(X)\n",
    "coefz <- fit$par[(kx+1):(kx+kz)]\n",
    "names(coefz) <- names(start$zero) <- colnames(Z)`\n",
    "\n",
    "`vc <- -solve(as.matrix(fit$hessian))\n",
    "if(dist == \"negbin\") {\n",
    "   np <- kx + kz + 1\n",
    "   theta <- as.vector(exp(fit$par[np]))\n",
    "   SE.logtheta <- as.vector(sqrt(diag(vc)[np]))\n",
    "   vc <- vc[-np, -np, drop = FALSE]\n",
    " } else {\n",
    "    theta <- NULL\n",
    "    SE.logtheta <- NULL\n",
    "  }\n",
    "  colnames(vc) <- rownames(vc) <- c(paste(\"count\", colnames(X), sep = \"_\"),\n",
    "                                    paste(\"zero\",  colnames(Z), sep = \"_\"))`\n",
    "\n",
    "`## fitted and residuals\n",
    "mu <- exp(X %*% coefc + offsetx)[,1]\n",
    "phi <- linkinv(Z %*% coefz + offsetz)[,1]\n",
    "Yhat <- (1-phi) * mu\n",
    "res <- sqrt(weights) * (Y - Yhat)`"
   ]
  },
  {
   "cell_type": "code",
   "execution_count": 152,
   "metadata": {},
   "outputs": [],
   "source": [
    "fit = sp.optimize.minimize(loglikfun, args=(-1.0,), x0 = np.hstack((start['count'].values,start['zero'].values)),\\\n",
    "            method='BFGS', jac=gradfun, options={'disp': False, 'maxiter': 10000}, tol = reltol)"
   ]
  },
  {
   "cell_type": "code",
   "execution_count": 119,
   "metadata": {},
   "outputs": [
    {
     "ename": "TypeError",
     "evalue": "__init__() missing 1 required positional argument: 'exog'",
     "output_type": "error",
     "traceback": [
      "\u001b[0;31m---------------------------------------------------------------------------\u001b[0m",
      "\u001b[0;31mTypeError\u001b[0m                                 Traceback (most recent call last)",
      "\u001b[0;32m<ipython-input-119-5857e4135000>\u001b[0m in \u001b[0;36m<module>\u001b[0;34m()\u001b[0m\n\u001b[0;32m----> 1\u001b[0;31m \u001b[0msm\u001b[0m\u001b[0;34m.\u001b[0m\u001b[0mLogit\u001b[0m\u001b[0;34m(\u001b[0m\u001b[0;36m1\u001b[0m\u001b[0;34m)\u001b[0m\u001b[0;34m\u001b[0m\u001b[0m\n\u001b[0m",
      "\u001b[0;31mTypeError\u001b[0m: __init__() missing 1 required positional argument: 'exog'"
     ]
    }
   ],
   "source": [
    "sm.Logit(1)"
   ]
  },
  {
   "cell_type": "code",
   "execution_count": 153,
   "metadata": {},
   "outputs": [],
   "source": [
    "## coefficients and covariances\n",
    "coefc = pd.Series(data = fit.x[0:kx], index = X.columns.values)\n",
    "coefz = pd.Series(data = fit.x[kx:kx+kz], index = Z.columns.values)\n",
    "vc = pd.DataFrame(data = -fit.hess_inv, index = np.append(X.columns.values, Z.columns.values),\\\n",
    "                 columns = np.append(X.columns.values, Z.columns.values))"
   ]
  },
  {
   "cell_type": "code",
   "execution_count": 162,
   "metadata": {},
   "outputs": [],
   "source": [
    "## fitted and residuals\n",
    "mu = np.exp(np.dot(X,coefc)+offsetx)\n",
    "phi = linkinv(np.dot(Z,coefz)+offsetz)\n",
    "Yhat = (1-phi) * mu\n",
    "res = np.sqrt(weights) * (Y - Yhat)"
   ]
  },
  {
   "cell_type": "code",
   "execution_count": 155,
   "metadata": {},
   "outputs": [
    {
     "data": {
      "text/html": [
       "<div>\n",
       "<style>\n",
       "    .dataframe thead tr:only-child th {\n",
       "        text-align: right;\n",
       "    }\n",
       "\n",
       "    .dataframe thead th {\n",
       "        text-align: left;\n",
       "    }\n",
       "\n",
       "    .dataframe tbody tr th {\n",
       "        vertical-align: top;\n",
       "    }\n",
       "</style>\n",
       "<table border=\"1\" class=\"dataframe\">\n",
       "  <thead>\n",
       "    <tr style=\"text-align: right;\">\n",
       "      <th></th>\n",
       "      <th>Intercept</th>\n",
       "      <th>health[T.excellent]</th>\n",
       "      <th>health[T.poor]</th>\n",
       "      <th>gender[T.male]</th>\n",
       "      <th>privins[T.yes]</th>\n",
       "      <th>hosp</th>\n",
       "      <th>numchron</th>\n",
       "      <th>school</th>\n",
       "      <th>Intercept</th>\n",
       "      <th>health[T.excellent]</th>\n",
       "      <th>health[T.poor]</th>\n",
       "    </tr>\n",
       "  </thead>\n",
       "  <tbody>\n",
       "    <tr>\n",
       "      <th>Intercept</th>\n",
       "      <td>-0.000601</td>\n",
       "      <td>0.000032</td>\n",
       "      <td>0.000067</td>\n",
       "      <td>4.388028e-05</td>\n",
       "      <td>0.000145</td>\n",
       "      <td>2.371374e-06</td>\n",
       "      <td>4.194402e-05</td>\n",
       "      <td>3.082563e-05</td>\n",
       "      <td>-0.000038</td>\n",
       "      <td>-2.200580e-05</td>\n",
       "      <td>3.105405e-05</td>\n",
       "    </tr>\n",
       "    <tr>\n",
       "      <th>health[T.excellent]</th>\n",
       "      <td>0.000032</td>\n",
       "      <td>-0.000988</td>\n",
       "      <td>-0.000022</td>\n",
       "      <td>3.741862e-06</td>\n",
       "      <td>-0.000001</td>\n",
       "      <td>-5.108776e-06</td>\n",
       "      <td>-1.452878e-05</td>\n",
       "      <td>4.385886e-06</td>\n",
       "      <td>0.000010</td>\n",
       "      <td>-3.643345e-04</td>\n",
       "      <td>-9.819426e-06</td>\n",
       "    </tr>\n",
       "    <tr>\n",
       "      <th>health[T.poor]</th>\n",
       "      <td>0.000067</td>\n",
       "      <td>-0.000022</td>\n",
       "      <td>-0.000314</td>\n",
       "      <td>-1.730619e-06</td>\n",
       "      <td>-0.000027</td>\n",
       "      <td>1.688542e-05</td>\n",
       "      <td>2.658064e-05</td>\n",
       "      <td>-3.993200e-06</td>\n",
       "      <td>0.000006</td>\n",
       "      <td>-7.745983e-06</td>\n",
       "      <td>-1.517821e-05</td>\n",
       "    </tr>\n",
       "    <tr>\n",
       "      <th>gender[T.male]</th>\n",
       "      <td>0.000044</td>\n",
       "      <td>0.000004</td>\n",
       "      <td>-0.000002</td>\n",
       "      <td>-1.719386e-04</td>\n",
       "      <td>0.000013</td>\n",
       "      <td>2.576869e-06</td>\n",
       "      <td>1.357182e-06</td>\n",
       "      <td>5.865812e-07</td>\n",
       "      <td>-0.000006</td>\n",
       "      <td>-6.082406e-06</td>\n",
       "      <td>4.163475e-06</td>\n",
       "    </tr>\n",
       "    <tr>\n",
       "      <th>privins[T.yes]</th>\n",
       "      <td>0.000145</td>\n",
       "      <td>-0.000001</td>\n",
       "      <td>-0.000027</td>\n",
       "      <td>1.310409e-05</td>\n",
       "      <td>-0.000300</td>\n",
       "      <td>5.109038e-06</td>\n",
       "      <td>-2.979811e-06</td>\n",
       "      <td>9.675533e-06</td>\n",
       "      <td>0.000011</td>\n",
       "      <td>3.450431e-06</td>\n",
       "      <td>-8.854319e-06</td>\n",
       "    </tr>\n",
       "    <tr>\n",
       "      <th>hosp</th>\n",
       "      <td>0.000002</td>\n",
       "      <td>-0.000005</td>\n",
       "      <td>0.000017</td>\n",
       "      <td>2.576869e-06</td>\n",
       "      <td>0.000005</td>\n",
       "      <td>-3.671321e-05</td>\n",
       "      <td>5.184157e-06</td>\n",
       "      <td>-1.852801e-07</td>\n",
       "      <td>0.000001</td>\n",
       "      <td>-3.601112e-07</td>\n",
       "      <td>7.533150e-08</td>\n",
       "    </tr>\n",
       "    <tr>\n",
       "      <th>numchron</th>\n",
       "      <td>0.000042</td>\n",
       "      <td>-0.000015</td>\n",
       "      <td>0.000027</td>\n",
       "      <td>1.357182e-06</td>\n",
       "      <td>-0.000003</td>\n",
       "      <td>5.184157e-06</td>\n",
       "      <td>-2.243578e-05</td>\n",
       "      <td>-2.640444e-07</td>\n",
       "      <td>0.000005</td>\n",
       "      <td>2.004751e-06</td>\n",
       "      <td>-3.333073e-06</td>\n",
       "    </tr>\n",
       "    <tr>\n",
       "      <th>school</th>\n",
       "      <td>0.000031</td>\n",
       "      <td>0.000004</td>\n",
       "      <td>-0.000004</td>\n",
       "      <td>5.865812e-07</td>\n",
       "      <td>0.000010</td>\n",
       "      <td>-1.852801e-07</td>\n",
       "      <td>-2.640444e-07</td>\n",
       "      <td>-3.553572e-06</td>\n",
       "      <td>0.000001</td>\n",
       "      <td>2.499764e-06</td>\n",
       "      <td>-9.662352e-07</td>\n",
       "    </tr>\n",
       "    <tr>\n",
       "      <th>Intercept</th>\n",
       "      <td>-0.000038</td>\n",
       "      <td>0.000010</td>\n",
       "      <td>0.000006</td>\n",
       "      <td>-6.309347e-06</td>\n",
       "      <td>0.000011</td>\n",
       "      <td>1.004918e-06</td>\n",
       "      <td>4.710941e-06</td>\n",
       "      <td>1.274083e-06</td>\n",
       "      <td>-0.002314</td>\n",
       "      <td>2.311685e-03</td>\n",
       "      <td>2.311389e-03</td>\n",
       "    </tr>\n",
       "    <tr>\n",
       "      <th>health[T.excellent]</th>\n",
       "      <td>-0.000022</td>\n",
       "      <td>-0.000364</td>\n",
       "      <td>-0.000008</td>\n",
       "      <td>-6.082406e-06</td>\n",
       "      <td>0.000003</td>\n",
       "      <td>-3.601112e-07</td>\n",
       "      <td>2.004751e-06</td>\n",
       "      <td>2.499764e-06</td>\n",
       "      <td>0.002312</td>\n",
       "      <td>-2.116091e-02</td>\n",
       "      <td>-2.306497e-03</td>\n",
       "    </tr>\n",
       "    <tr>\n",
       "      <th>health[T.poor]</th>\n",
       "      <td>0.000031</td>\n",
       "      <td>-0.000010</td>\n",
       "      <td>-0.000015</td>\n",
       "      <td>4.163475e-06</td>\n",
       "      <td>-0.000009</td>\n",
       "      <td>7.533150e-08</td>\n",
       "      <td>-3.333073e-06</td>\n",
       "      <td>-9.662352e-07</td>\n",
       "      <td>0.002311</td>\n",
       "      <td>-2.306497e-03</td>\n",
       "      <td>-2.147779e-02</td>\n",
       "    </tr>\n",
       "  </tbody>\n",
       "</table>\n",
       "</div>"
      ],
      "text/plain": [
       "                     Intercept  health[T.excellent]  health[T.poor]  \\\n",
       "Intercept            -0.000601             0.000032        0.000067   \n",
       "health[T.excellent]   0.000032            -0.000988       -0.000022   \n",
       "health[T.poor]        0.000067            -0.000022       -0.000314   \n",
       "gender[T.male]        0.000044             0.000004       -0.000002   \n",
       "privins[T.yes]        0.000145            -0.000001       -0.000027   \n",
       "hosp                  0.000002            -0.000005        0.000017   \n",
       "numchron              0.000042            -0.000015        0.000027   \n",
       "school                0.000031             0.000004       -0.000004   \n",
       "Intercept            -0.000038             0.000010        0.000006   \n",
       "health[T.excellent]  -0.000022            -0.000364       -0.000008   \n",
       "health[T.poor]        0.000031            -0.000010       -0.000015   \n",
       "\n",
       "                     gender[T.male]  privins[T.yes]          hosp  \\\n",
       "Intercept              4.388028e-05        0.000145  2.371374e-06   \n",
       "health[T.excellent]    3.741862e-06       -0.000001 -5.108776e-06   \n",
       "health[T.poor]        -1.730619e-06       -0.000027  1.688542e-05   \n",
       "gender[T.male]        -1.719386e-04        0.000013  2.576869e-06   \n",
       "privins[T.yes]         1.310409e-05       -0.000300  5.109038e-06   \n",
       "hosp                   2.576869e-06        0.000005 -3.671321e-05   \n",
       "numchron               1.357182e-06       -0.000003  5.184157e-06   \n",
       "school                 5.865812e-07        0.000010 -1.852801e-07   \n",
       "Intercept             -6.309347e-06        0.000011  1.004918e-06   \n",
       "health[T.excellent]   -6.082406e-06        0.000003 -3.601112e-07   \n",
       "health[T.poor]         4.163475e-06       -0.000009  7.533150e-08   \n",
       "\n",
       "                         numchron        school  Intercept  \\\n",
       "Intercept            4.194402e-05  3.082563e-05  -0.000038   \n",
       "health[T.excellent] -1.452878e-05  4.385886e-06   0.000010   \n",
       "health[T.poor]       2.658064e-05 -3.993200e-06   0.000006   \n",
       "gender[T.male]       1.357182e-06  5.865812e-07  -0.000006   \n",
       "privins[T.yes]      -2.979811e-06  9.675533e-06   0.000011   \n",
       "hosp                 5.184157e-06 -1.852801e-07   0.000001   \n",
       "numchron            -2.243578e-05 -2.640444e-07   0.000005   \n",
       "school              -2.640444e-07 -3.553572e-06   0.000001   \n",
       "Intercept            4.710941e-06  1.274083e-06  -0.002314   \n",
       "health[T.excellent]  2.004751e-06  2.499764e-06   0.002312   \n",
       "health[T.poor]      -3.333073e-06 -9.662352e-07   0.002311   \n",
       "\n",
       "                     health[T.excellent]  health[T.poor]  \n",
       "Intercept                  -2.200580e-05    3.105405e-05  \n",
       "health[T.excellent]        -3.643345e-04   -9.819426e-06  \n",
       "health[T.poor]             -7.745983e-06   -1.517821e-05  \n",
       "gender[T.male]             -6.082406e-06    4.163475e-06  \n",
       "privins[T.yes]              3.450431e-06   -8.854319e-06  \n",
       "hosp                       -3.601112e-07    7.533150e-08  \n",
       "numchron                    2.004751e-06   -3.333073e-06  \n",
       "school                      2.499764e-06   -9.662352e-07  \n",
       "Intercept                   2.311685e-03    2.311389e-03  \n",
       "health[T.excellent]        -2.116091e-02   -2.306497e-03  \n",
       "health[T.poor]             -2.306497e-03   -2.147779e-02  "
      ]
     },
     "execution_count": 155,
     "metadata": {},
     "output_type": "execute_result"
    }
   ],
   "source": [
    "vc"
   ]
  },
  {
   "cell_type": "code",
   "execution_count": 156,
   "metadata": {},
   "outputs": [
    {
     "data": {
      "text/plain": [
       "array([  6.66911641,   6.56389032,  15.3987347 , ...,  10.22539213,\n",
       "         5.5522598 ,   2.77613353])"
      ]
     },
     "execution_count": 156,
     "metadata": {},
     "output_type": "execute_result"
    }
   ],
   "source": [
    "mu"
   ]
  },
  {
   "cell_type": "code",
   "execution_count": 163,
   "metadata": {},
   "outputs": [
    {
     "data": {
      "text/plain": [
       "array([ 0.15012237,  0.15012237,  0.10594971, ...,  0.15012237,\n",
       "        0.15012237,  0.22119154])"
      ]
     },
     "execution_count": 163,
     "metadata": {},
     "output_type": "execute_result"
    }
   ],
   "source": [
    "phi"
   ]
  },
  {
   "cell_type": "code",
   "execution_count": 164,
   "metadata": {},
   "outputs": [
    {
     "data": {
      "text/plain": [
       "array([  5.66793287,   5.57850358,  13.76724315, ...,   8.69033207,\n",
       "         4.71874142,   2.16207629])"
      ]
     },
     "execution_count": 164,
     "metadata": {},
     "output_type": "execute_result"
    }
   ],
   "source": [
    "Yhat"
   ]
  },
  {
   "cell_type": "code",
   "execution_count": 165,
   "metadata": {},
   "outputs": [
    {
     "data": {
      "text/plain": [
       "array([ -0.66793287,  -4.57850358,  -0.76724315, ...,   1.30966793,\n",
       "        11.28125858,  -2.16207629])"
      ]
     },
     "execution_count": 165,
     "metadata": {},
     "output_type": "execute_result"
    }
   ],
   "source": [
    "res"
   ]
  },
  {
   "cell_type": "code",
   "execution_count": 160,
   "metadata": {},
   "outputs": [
    {
     "data": {
      "text/plain": [
       "Intercept              1.393672\n",
       "health[T.excellent]   -0.307754\n",
       "health[T.poor]         0.254201\n",
       "gender[T.male]        -0.064859\n",
       "privins[T.yes]         0.085441\n",
       "hosp                   0.159127\n",
       "numchron               0.103280\n",
       "school                 0.019591\n",
       "dtype: float64"
      ]
     },
     "execution_count": 160,
     "metadata": {},
     "output_type": "execute_result"
    }
   ],
   "source": [
    "coefc"
   ]
  },
  {
   "cell_type": "code",
   "execution_count": 161,
   "metadata": {},
   "outputs": [
    {
     "data": {
      "text/plain": [
       "Intercept             -1.733642\n",
       "health[T.excellent]    0.474906\n",
       "health[T.poor]        -0.399156\n",
       "dtype: float64"
      ]
     },
     "execution_count": 161,
     "metadata": {},
     "output_type": "execute_result"
    }
   ],
   "source": [
    "coefz"
   ]
  },
  {
   "cell_type": "code",
   "execution_count": null,
   "metadata": {
    "collapsed": true
   },
   "outputs": [],
   "source": []
  },
  {
   "cell_type": "code",
   "execution_count": 104,
   "metadata": {},
   "outputs": [
    {
     "data": {
      "text/plain": [
       "(4406,)"
      ]
     },
     "execution_count": 104,
     "metadata": {},
     "output_type": "execute_result"
    }
   ],
   "source": [
    "np.exp(np.dot(X,coefc)+offsetx).shape"
   ]
  },
  {
   "cell_type": "code",
   "execution_count": 95,
   "metadata": {},
   "outputs": [],
   "source": [
    "y = np.append(X.columns.values, Z.columns.values)"
   ]
  },
  {
   "cell_type": "code",
   "execution_count": 97,
   "metadata": {},
   "outputs": [
    {
     "data": {
      "text/plain": [
       "array(['Intercept', 'health[T.excellent]', 'health[T.poor]',\n",
       "       'gender[T.male]', 'privins[T.yes]', 'hosp', 'numchron', 'school'], dtype=object)"
      ]
     },
     "execution_count": 97,
     "metadata": {},
     "output_type": "execute_result"
    }
   ],
   "source": [
    "X.columns.values"
   ]
  },
  {
   "cell_type": "code",
   "execution_count": null,
   "metadata": {},
   "outputs": [],
   "source": []
  },
  {
   "cell_type": "code",
   "execution_count": 58,
   "metadata": {},
   "outputs": [
    {
     "data": {
      "text/plain": [
       "(11, 11)"
      ]
     },
     "execution_count": 58,
     "metadata": {},
     "output_type": "execute_result"
    }
   ],
   "source": [
    "(fit.hess_inv).shape"
   ]
  },
  {
   "cell_type": "code",
   "execution_count": 66,
   "metadata": {},
   "outputs": [
    {
     "data": {
      "text/plain": [
       "pandas.core.indexes.base.Index"
      ]
     },
     "execution_count": 66,
     "metadata": {},
     "output_type": "execute_result"
    }
   ],
   "source": []
  },
  {
   "cell_type": "code",
   "execution_count": 56,
   "metadata": {},
   "outputs": [
    {
     "data": {
      "text/plain": [
       "(11,)"
      ]
     },
     "execution_count": 56,
     "metadata": {},
     "output_type": "execute_result"
    }
   ],
   "source": [
    "np.hstack((start['count'].values,start['zero'].values)).shape"
   ]
  },
  {
   "cell_type": "code",
   "execution_count": 30,
   "metadata": {},
   "outputs": [],
   "source": [
    "## coefficients and covariances\n",
    "coefc = fit.x[0:kx]\n",
    "#names(coefc) <- names(start$count) <- colnames(X)\n",
    "#coefz <- fit$par[(kx+1):(kx+kz)]\n",
    "#names(coefz) <- names(start$zero) <- colnames(Z)"
   ]
  },
  {
   "cell_type": "code",
   "execution_count": 36,
   "metadata": {},
   "outputs": [
    {
     "data": {
      "text/plain": [
       "pandas.core.series.Series"
      ]
     },
     "execution_count": 36,
     "metadata": {},
     "output_type": "execute_result"
    }
   ],
   "source": [
    "type(start['count'])"
   ]
  },
  {
   "cell_type": "code",
   "execution_count": 151,
   "metadata": {},
   "outputs": [],
   "source": [
    "import numpy as np\n",
    "import pandas as pd\n",
    "import patsy\n",
    "df = pd.read_csv('DebTrivedi.csv',index_col = [0])\n",
    "sel = np.array([1, 6, 7, 8, 13, 15, 18])-1\n",
    "df = df.iloc[:,sel]\n",
    "# produce design matrices from R-style formula\n",
    "X_formula = 'ofp ~ hosp + health + numchron + gender + school + privins'\n",
    "y, X = patsy.dmatrices(X_formula, df, return_type='dataframe')\n",
    "Z_formula = 'ofp ~ health'\n",
    "Z = patsy.dmatrices(Z_formula, df, return_type='dataframe')[1]\n",
    "\n",
    "## convenience variables\n",
    "Y = np.squeeze(y.values)\n",
    "n = len(Y)\n",
    "kx = X.shape[1] # Number of columns in X\n",
    "kz = Z.shape[1]\n",
    "Y0 = Y <= 0\n",
    "Y1 = Y > 0\n",
    "\n",
    "offsetx = np.zeros(n)\n",
    "offsetz = np.zeros(n)\n",
    "weights = np.ones(n)\n",
    "\n",
    "import statsmodels.api as sm\n",
    "import scipy as sp\n",
    "linkinv = sp.special.expit\n",
    "linkobj = sp.special.logit\n",
    "\n",
    "def ziPoisson(parms, sign = 1.0):\n",
    "    ## count mean\n",
    "    mu = np.exp(np.dot(X,parms[np.arange(kx)]) + offsetx)\n",
    "    ## binary mean\n",
    "    phi = linkinv(np.dot(Z, parms[np.arange(kx,kx+kz)]) + offsetz)\n",
    "    ## log-likelihood for y = 0 and y >= 1\n",
    "    loglik0 = np.log( phi + np.exp( np.log(1-phi) - mu ) ) ## -mu = dpois(0, lambda = mu, log = TRUE)\n",
    "    loglik1 = np.log(1-phi) + sp.stats.poisson.logpmf(Y, mu)\n",
    "    ## collect and return\n",
    "    loglik = np.dot(weights[Y0],loglik0[Y0])+np.dot(weights[Y1],loglik1[Y1])\n",
    "    return sign*loglik\n",
    "\n",
    "def gradPoisson(parms, sign = 1.0):\n",
    "    ## count mean\n",
    "    eta = np.dot(X,parms[np.arange(kx)]) + offsetx\n",
    "    mu = np.exp(eta)\n",
    "    ## binary mean\n",
    "    etaz = np.dot(Z, parms[np.arange(kx,kx+kz)]) + offsetz\n",
    "    muz = linkinv(etaz)\n",
    "    ## densities at 0\n",
    "    clogdens0 = -mu\n",
    "    dens0 = muz*(1-Y1.astype(float)) + np.exp(np.log(1 - muz) + clogdens0)\n",
    "    ## working residuals  \n",
    "    wres_count = np.where(Y1,Y-mu,-np.exp(-np.log(dens0) + \n",
    "                                          np.log(1 - muz) + clogdens0 + np.log(mu))) \n",
    "    link_etaz = np.exp(etaz)/(1+np.exp(etaz))**2\n",
    "    wres_zero  = np.where(Y1,-1/(1-muz) * link_etaz, \\\n",
    "                          (link_etaz - np.exp(clogdens0) * link_etaz)/dens0)\n",
    "    \n",
    "    \n",
    "    return sign*(np.hstack((np.expand_dims(wres_count*weights,axis=1)*X, \\\n",
    "                np.expand_dims(wres_zero*weights,axis=1)*Z))).sum(axis=0)\n",
    "\n",
    "loglikfun = ziPoisson\n",
    "gradfun = gradPoisson\n",
    "reltol =  (np.finfo(float).eps)**(1/1.6)\n",
    "\n",
    "model_count = sm.GLM(endog = Y, exog = X, family = sm.families.Poisson(),\\\n",
    "                                  offset = offsetx , freq_weights = weights).fit()\n",
    "model_zero = sm.GLM(Y0.astype(int), exog = Z, family=sm.families.Binomial(), \\\n",
    "                   offset = offsetz , freq_weights = weights).fit()\n",
    "start = {'zero':model_zero.params, 'count':model_count.params}\n",
    "\n",
    "mui = model_count.predict()\n",
    "probi = model_zero.predict()\n",
    "probi = probi/(probi + (1-probi)*sp.stats.poisson.pmf(0, mui))\n",
    "probi[Y1] = 0\n",
    "\n",
    "ll_new = loglikfun(np.hstack((start['count'].values,start['zero'].values)))\n",
    "ll_old = 2 * ll_new\n",
    "\n",
    "while np.absolute((ll_old - ll_new)/ll_old) > reltol :\n",
    "    ll_old = ll_new\n",
    "    model_count = poisson_mod = sm.GLM(endog = Y, exog = X, family = sm.families.Poisson(),\\\n",
    "                                  offset = offsetx , freq_weights = weights*(1-probi), \\\n",
    "                                      start_params = start['count']).fit()\n",
    "    model_zero = sm.GLM(probi, exog = Z, family=sm.families.Binomial(),\\\n",
    "                        offset = offsetz, freq_weights = weights, \\\n",
    "                        start_params = start['zero']).fit()\n",
    "    start = {'zero':model_zero.params, 'count':model_count.params}\n",
    "\n",
    "    mui = model_count.predict()\n",
    "    probi = model_zero.predict()\n",
    "    probi = probi/(probi + (1-probi)*sp.stats.poisson.pmf(0, mui))\n",
    "    probi[Y1] = 0\n",
    "\n",
    "    ll_new = loglikfun(np.hstack((start['count'].values,start['zero'].values)))"
   ]
  },
  {
   "cell_type": "code",
   "execution_count": 167,
   "metadata": {},
   "outputs": [
    {
     "data": {
      "text/html": [
       "<table class=\"simpletable\">\n",
       "<caption>Generalized Linear Model Regression Results</caption>\n",
       "<tr>\n",
       "  <th>Dep. Variable:</th>          <td>y</td>        <th>  No. Observations:  </th>  <td>  4406</td> \n",
       "</tr>\n",
       "<tr>\n",
       "  <th>Model:</th>                 <td>GLM</td>       <th>  Df Residuals:      </th>  <td>  4398</td> \n",
       "</tr>\n",
       "<tr>\n",
       "  <th>Model Family:</th>        <td>Poisson</td>     <th>  Df Model:          </th>  <td>     7</td> \n",
       "</tr>\n",
       "<tr>\n",
       "  <th>Link Function:</th>         <td>log</td>       <th>  Scale:             </th>    <td>1.0</td>  \n",
       "</tr>\n",
       "<tr>\n",
       "  <th>Method:</th>               <td>IRLS</td>       <th>  Log-Likelihood:    </th> <td> -17972.</td>\n",
       "</tr>\n",
       "<tr>\n",
       "  <th>Date:</th>           <td>Sat, 31 Mar 2018</td> <th>  Deviance:          </th> <td>  23168.</td>\n",
       "</tr>\n",
       "<tr>\n",
       "  <th>Time:</th>               <td>18:32:28</td>     <th>  Pearson chi2:      </th> <td>2.95e+04</td>\n",
       "</tr>\n",
       "<tr>\n",
       "  <th>No. Iterations:</th>         <td>5</td>        <th>                     </th>     <td> </td>   \n",
       "</tr>\n",
       "</table>\n",
       "<table class=\"simpletable\">\n",
       "<tr>\n",
       "           <td></td>              <th>coef</th>     <th>std err</th>      <th>z</th>      <th>P>|z|</th>  <th>[0.025</th>    <th>0.975]</th>  \n",
       "</tr>\n",
       "<tr>\n",
       "  <th>Intercept</th>           <td>    1.0289</td> <td>    0.024</td> <td>   43.257</td> <td> 0.000</td> <td>    0.982</td> <td>    1.075</td>\n",
       "</tr>\n",
       "<tr>\n",
       "  <th>health[T.excellent]</th> <td>   -0.3620</td> <td>    0.030</td> <td>  -11.945</td> <td> 0.000</td> <td>   -0.421</td> <td>   -0.303</td>\n",
       "</tr>\n",
       "<tr>\n",
       "  <th>health[T.poor]</th>      <td>    0.2483</td> <td>    0.018</td> <td>   13.915</td> <td> 0.000</td> <td>    0.213</td> <td>    0.283</td>\n",
       "</tr>\n",
       "<tr>\n",
       "  <th>gender[T.male]</th>      <td>   -0.1123</td> <td>    0.013</td> <td>   -8.677</td> <td> 0.000</td> <td>   -0.138</td> <td>   -0.087</td>\n",
       "</tr>\n",
       "<tr>\n",
       "  <th>privins[T.yes]</th>      <td>    0.2017</td> <td>    0.017</td> <td>   11.962</td> <td> 0.000</td> <td>    0.169</td> <td>    0.235</td>\n",
       "</tr>\n",
       "<tr>\n",
       "  <th>hosp</th>                <td>    0.1648</td> <td>    0.006</td> <td>   27.478</td> <td> 0.000</td> <td>    0.153</td> <td>    0.177</td>\n",
       "</tr>\n",
       "<tr>\n",
       "  <th>numchron</th>            <td>    0.1466</td> <td>    0.005</td> <td>   32.019</td> <td> 0.000</td> <td>    0.138</td> <td>    0.156</td>\n",
       "</tr>\n",
       "<tr>\n",
       "  <th>school</th>              <td>    0.0261</td> <td>    0.002</td> <td>   14.182</td> <td> 0.000</td> <td>    0.023</td> <td>    0.030</td>\n",
       "</tr>\n",
       "</table>"
      ],
      "text/plain": [
       "<class 'statsmodels.iolib.summary.Summary'>\n",
       "\"\"\"\n",
       "                 Generalized Linear Model Regression Results                  \n",
       "==============================================================================\n",
       "Dep. Variable:                      y   No. Observations:                 4406\n",
       "Model:                            GLM   Df Residuals:                     4398\n",
       "Model Family:                 Poisson   Df Model:                            7\n",
       "Link Function:                    log   Scale:                             1.0\n",
       "Method:                          IRLS   Log-Likelihood:                -17972.\n",
       "Date:                Sat, 31 Mar 2018   Deviance:                       23168.\n",
       "Time:                        18:32:28   Pearson chi2:                 2.95e+04\n",
       "No. Iterations:                     5                                         \n",
       "=======================================================================================\n",
       "                          coef    std err          z      P>|z|      [0.025      0.975]\n",
       "---------------------------------------------------------------------------------------\n",
       "Intercept               1.0289      0.024     43.257      0.000       0.982       1.075\n",
       "health[T.excellent]    -0.3620      0.030    -11.945      0.000      -0.421      -0.303\n",
       "health[T.poor]          0.2483      0.018     13.915      0.000       0.213       0.283\n",
       "gender[T.male]         -0.1123      0.013     -8.677      0.000      -0.138      -0.087\n",
       "privins[T.yes]          0.2017      0.017     11.962      0.000       0.169       0.235\n",
       "hosp                    0.1648      0.006     27.478      0.000       0.153       0.177\n",
       "numchron                0.1466      0.005     32.019      0.000       0.138       0.156\n",
       "school                  0.0261      0.002     14.182      0.000       0.023       0.030\n",
       "=======================================================================================\n",
       "\"\"\""
      ]
     },
     "execution_count": 167,
     "metadata": {},
     "output_type": "execute_result"
    }
   ],
   "source": [
    "sm.GLM(endog = Y, exog = X, family = sm.families.Poisson(),\\\n",
    "                                  offset = offsetx , freq_weights = weights).fit().summary()"
   ]
  },
  {
   "cell_type": "code",
   "execution_count": 150,
   "metadata": {},
   "outputs": [
    {
     "data": {
      "text/plain": [
       "Intercept              1.393671\n",
       "health[T.excellent]   -0.307757\n",
       "health[T.poor]         0.254201\n",
       "gender[T.male]        -0.064859\n",
       "privins[T.yes]         0.085441\n",
       "hosp                   0.159127\n",
       "numchron               0.103280\n",
       "school                 0.019591\n",
       "dtype: float64"
      ]
     },
     "execution_count": 150,
     "metadata": {},
     "output_type": "execute_result"
    }
   ],
   "source": [
    "start['count']"
   ]
  },
  {
   "cell_type": "code",
   "execution_count": 171,
   "metadata": {},
   "outputs": [],
   "source": [
    "from statsmodels.genmod.generalized_estimating_equations import GEE"
   ]
  },
  {
   "cell_type": "code",
   "execution_count": 172,
   "metadata": {
    "collapsed": true
   },
   "outputs": [],
   "source": [
    "?GEE"
   ]
  },
  {
   "cell_type": "code",
   "execution_count": null,
   "metadata": {
    "collapsed": true
   },
   "outputs": [],
   "source": []
  }
 ],
 "metadata": {
  "kernelspec": {
   "display_name": "Python 3",
   "language": "python",
   "name": "python3"
  },
  "language_info": {
   "codemirror_mode": {
    "name": "ipython",
    "version": 3
   },
   "file_extension": ".py",
   "mimetype": "text/x-python",
   "name": "python",
   "nbconvert_exporter": "python",
   "pygments_lexer": "ipython3",
   "version": "3.6.1"
  }
 },
 "nbformat": 4,
 "nbformat_minor": 2
}
