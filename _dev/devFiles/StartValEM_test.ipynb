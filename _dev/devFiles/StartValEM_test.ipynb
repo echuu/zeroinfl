{
 "cells": [
  {
   "cell_type": "markdown",
   "metadata": {},
   "source": [
    "    model_count <- glm.fit(X, Y, family = poisson(), weights = weights, offset = offsetx)\n",
    "    model_zero <- glm.fit(Z, as.integer(Y0), weights = weights, family = binomial(link = linkstr), offset = offsetz)\n",
    "    start <- list(count = model_count$coefficients, zero = model_zero$coefficients)\n",
    "    ## EM estimation of starting values\n",
    "    if(control$EM & dist == \"poisson\") {\n",
    "      mui <- model_count$fitted\n",
    "      probi <- model_zero$fitted\n",
    "      probi <- probi/(probi + (1-probi) * dpois(0, mui))\n",
    "      probi[Y1] <- 0\n",
    "\n",
    "      ll_new <- loglikfun(c(start$count, start$zero))\n",
    "      ll_old <- 2 * ll_new\n",
    "    \n",
    "      while(abs((ll_old - ll_new)/ll_old) > control$reltol) {\n",
    "        ll_old <- ll_new\n",
    "        model_count <- glm.fit(X, Y, weights = weights * (1-probi), offset = offsetx,\n",
    "\t  family = poisson(), start = start$count)\n",
    "        model_zero <- suppressWarnings(glm.fit(Z, probi, weights = weights, offset = offsetz,\n",
    "\t  family = binomial(link = linkstr), start = start$zero))\n",
    "        mui <- model_count$fitted\n",
    "        probi <- model_zero$fitted\n",
    "        probi <- probi/(probi + (1-probi) * dpois(0, mui))\n",
    "        probi[Y1] <- 0\n",
    "        start <- list(count = model_count$coefficients, zero = model_zero$coefficients)\n",
    "        ll_new <- loglikfun(c(start$count, start$zero))\n",
    "      }\n",
    "    }"
   ]
  },
  {
   "cell_type": "code",
   "execution_count": 34,
   "metadata": {
    "collapsed": true
   },
   "outputs": [],
   "source": [
    "loglikfun = ziPoisson\n",
    "gradfun = gradPoisson\n",
    "reltol = (np.finfo(float).eps)**(1/1.6)"
   ]
  },
  {
   "cell_type": "code",
   "execution_count": 35,
   "metadata": {},
   "outputs": [
    {
     "name": "stdout",
     "output_type": "stream",
     "text": [
      "1.64636126996e-10\n"
     ]
    }
   ],
   "source": [
    "print(reltol)"
   ]
  },
  {
   "cell_type": "code",
   "execution_count": 51,
   "metadata": {
    "collapsed": true
   },
   "outputs": [],
   "source": [
    "?sm.GLM"
   ]
  },
  {
   "cell_type": "code",
   "execution_count": 55,
   "metadata": {},
   "outputs": [
    {
     "data": {
      "text/plain": [
       "-16292.541381627983"
      ]
     },
     "execution_count": 55,
     "metadata": {},
     "output_type": "execute_result"
    }
   ],
   "source": [
    "\n",
    "model_count = poisson_mod = sm.GLM(endog = Y, exog = X, family = sm.families.Poisson(),\\\n",
    "                                  offset = offsetx , freq_weights = weights).fit()\n",
    "model_zero = sm.GLM(Y0.astype(int), exog = Z, family=sm.families.Binomial(), \\\n",
    "                   offset = offsetz , freq_weights = weights).fit()\n",
    "start = {'zero':model_zero.params, 'count':model_count.params}\n",
    "\n",
    "mui = model_count.predict()\n",
    "probi = model_zero.predict()\n",
    "probi = probi/(probi + (1-probi)*sp.stats.poisson.pmf(0, mui))\n",
    "probi[Y1] = 0\n",
    "\n",
    "ll_new = loglikfun(np.hstack((start['count'].values,start['zero'].values)))\n",
    "ll_old = 2 * ll_new\n",
    "\n",
    "while np.absolute((ll_old - ll_new)/ll_old) > reltol :\n",
    "    ll_old = ll_new\n",
    "    model_count = poisson_mod = sm.GLM(endog = Y, exog = X, family = sm.families.Poisson(),\\\n",
    "                                  offset = offsetx , freq_weights = weights*(1-probi), \\\n",
    "                                      start_params = start['count']).fit()\n",
    "    model_zero = sm.GLM(Y0.astype(int), exog = Z, family=sm.families.Binomial(),\\\n",
    "                        offset = offsetz, freq_weights = weights, \\\n",
    "                        start_params = start['zero']).fit()\n",
    "    start = {'zero':model_zero.params, 'count':model_count.params}\n",
    "\n",
    "    mui = model_count.predict()\n",
    "    probi = model_zero.predict()\n",
    "    probi = probi/(probi + (1-probi)*sp.stats.poisson.pmf(0, mui))\n",
    "    probi[Y1] = 0\n",
    "\n",
    "    ll_new = loglikfun(np.hstack((start['count'].values,start['zero'].values)))\n",
    "    \n",
    "ll_new"
   ]
  },
  {
   "cell_type": "code",
   "execution_count": 49,
   "metadata": {
    "collapsed": true
   },
   "outputs": [],
   "source": [
    "import numpy as np\n",
    "import pandas as pd\n",
    "import patsy\n",
    "df = pd.read_csv('DebTrivedi.csv',index_col = [0])\n",
    "sel = np.array([1, 6, 7, 8, 13, 15, 18])-1\n",
    "df = df.iloc[:,sel]\n",
    "# produce design matrices from R-style formula\n",
    "X_formula = 'ofp ~ hosp + health + numchron + gender + school + privins'\n",
    "y, X = patsy.dmatrices(X_formula, df, return_type='dataframe')\n",
    "Z_formula = 'ofp ~ health'\n",
    "Z1 = patsy.dmatrices(Z_formula, df, return_type='dataframe')[1]"
   ]
  },
  {
   "cell_type": "code",
   "execution_count": null,
   "metadata": {},
   "outputs": [],
   "source": []
  },
  {
   "cell_type": "code",
   "execution_count": null,
   "metadata": {},
   "outputs": [],
   "source": []
  },
  {
   "cell_type": "code",
   "execution_count": null,
   "metadata": {},
   "outputs": [],
   "source": []
  },
  {
   "cell_type": "code",
   "execution_count": 5,
   "metadata": {
    "collapsed": true
   },
   "outputs": [],
   "source": [
    "## convenience variables\n",
    "n = len(Y)\n",
    "kx = X.shape[1] # Number of columns in X\n",
    "kz = Z.shape[1]\n",
    "Y0 = Y <= 0\n",
    "Y1 = Y > 0\n",
    "\n",
    "offsetx = np.zeros(n)\n",
    "offsetz = np.zeros(n)\n",
    "weights = np.ones(n)"
   ]
  },
  {
   "cell_type": "code",
   "execution_count": 23,
   "metadata": {},
   "outputs": [],
   "source": [
    "import statsmodels.api as sm\n",
    "import scipy as sp\n",
    "linkinv = sp.special.expit\n",
    "linkobj = sp.special.logit"
   ]
  },
  {
   "cell_type": "code",
   "execution_count": 33,
   "metadata": {},
   "outputs": [
    {
     "name": "stdout",
     "output_type": "stream",
     "text": [
      "2.22044604925e-16\n"
     ]
    }
   ],
   "source": [
    "print(np.finfo(float).eps)"
   ]
  },
  {
   "cell_type": "code",
   "execution_count": 18,
   "metadata": {},
   "outputs": [
    {
     "data": {
      "text/plain": [
       "Intercept              1.028874\n",
       "health[T.excellent]   -0.361993\n",
       "health[T.poor]         0.248307\n",
       "gender[T.male]        -0.112320\n",
       "privins[T.yes]         0.201687\n",
       "hosp                   0.164797\n",
       "numchron               0.146639\n",
       "school                 0.026143\n",
       "dtype: float64"
      ]
     },
     "execution_count": 18,
     "metadata": {},
     "output_type": "execute_result"
    }
   ],
   "source": [
    "start['count']"
   ]
  },
  {
   "cell_type": "code",
   "execution_count": 17,
   "metadata": {},
   "outputs": [
    {
     "name": "stdout",
     "output_type": "stream",
     "text": [
      "Optimization terminated successfully.\n",
      "         Current function value: 4.078895\n",
      "         Iterations 1\n"
     ]
    },
    {
     "data": {
      "text/plain": [
       "Intercept              1.028874\n",
       "health[T.excellent]   -0.361993\n",
       "health[T.poor]         0.248307\n",
       "gender[T.male]        -0.112320\n",
       "privins[T.yes]         0.201687\n",
       "hosp                   0.164797\n",
       "numchron               0.146639\n",
       "school                 0.026143\n",
       "dtype: float64"
      ]
     },
     "execution_count": 17,
     "metadata": {},
     "output_type": "execute_result"
    }
   ],
   "source": [
    "sm.Poisson(endog = Y, exog = X, start_params = start['count']).fit().params"
   ]
  },
  {
   "cell_type": "code",
   "execution_count": 19,
   "metadata": {
    "collapsed": true
   },
   "outputs": [],
   "source": []
  },
  {
   "cell_type": "code",
   "execution_count": 20,
   "metadata": {},
   "outputs": [
    {
     "data": {
      "text/plain": [
       "array([  5.65859172,   5.9611865 ,  13.72968619, ...,  10.27743623,\n",
       "         4.68458323,   1.74117657])"
      ]
     },
     "execution_count": 20,
     "metadata": {},
     "output_type": "execute_result"
    }
   ],
   "source": [
    "mui"
   ]
  },
  {
   "cell_type": "code",
   "execution_count": 22,
   "metadata": {
    "collapsed": true
   },
   "outputs": [],
   "source": []
  },
  {
   "cell_type": "code",
   "execution_count": 21,
   "metadata": {
    "collapsed": true
   },
   "outputs": [],
   "source": [
    "def ziPoisson(parms):\n",
    "    ## count mean\n",
    "    mu = np.exp(np.dot(X,parms[np.arange(kx)]) + offsetx)\n",
    "    ## binary mean\n",
    "    phi = linkinv(np.dot(Z, parms[np.arange(kx,kx+kz)]) + offsetz)\n",
    "    ## log-likelihood for y = 0 and y >= 1\n",
    "    loglik0 = np.log( phi + np.exp( np.log(1-phi) - mu ) ) ## -mu = dpois(0, lambda = mu, log = TRUE)\n",
    "    loglik1 = np.log(1-phi) + sp.stats.poisson.logpmf(Y, mu)\n",
    "    ## collect and return\n",
    "    loglik = np.dot(weights[Y0],loglik0[Y0])+np.dot(weights[Y1],loglik1[Y1])\n",
    "    return loglik"
   ]
  },
  {
   "cell_type": "code",
   "execution_count": 28,
   "metadata": {
    "collapsed": true
   },
   "outputs": [],
   "source": [
    "def gradPoisson(parms):\n",
    "    ## count mean\n",
    "    eta = np.dot(X,parms[np.arange(kx)]) + offsetx\n",
    "    mu = np.exp(eta)\n",
    "    ## binary mean\n",
    "    etaz = np.dot(Z, parms[np.arange(kx,kx+kz)]) + offsetz\n",
    "    muz = linkinv(etaz)\n",
    "    ## densities at 0\n",
    "    clogdens0 = -mu\n",
    "    dens0 = muz*(1-Y1.astype(float)) + np.exp(np.log(1 - muz) + clogdens0)\n",
    "    ## working residuals  \n",
    "    wres_count = np.where(Y1,Y-mu,-np.exp(-np.log(dens0) + \n",
    "                                          np.log(1 - muz) + clogdens0 + np.log(mu))) \n",
    "    link_etaz = np.exp(etaz)/(1+np.exp(etaz))**2\n",
    "    wres_zero  = np.where(Y1,-1/(1-muz) * link_etaz, \\\n",
    "                          (link_etaz - np.exp(clogdens0) * link_etaz)/dens0)\n",
    "    \n",
    "    \n",
    "    return (np.hstack((np.expand_dims(wres_count*weights,axis=1)*X, \\\n",
    "                np.expand_dims(wres_zero*weights,axis=1)*Z))).sum(axis=0)"
   ]
  },
  {
   "cell_type": "code",
   "execution_count": 25,
   "metadata": {
    "collapsed": true
   },
   "outputs": [],
   "source": [
    "parms = np.hstack((count.values,zero.values))"
   ]
  },
  {
   "cell_type": "code",
   "execution_count": 26,
   "metadata": {},
   "outputs": [
    {
     "data": {
      "text/plain": [
       "-16582.015992208042"
      ]
     },
     "execution_count": 26,
     "metadata": {},
     "output_type": "execute_result"
    }
   ],
   "source": [
    "ziPoisson(parms)"
   ]
  },
  {
   "cell_type": "code",
   "execution_count": 27,
   "metadata": {},
   "outputs": [
    {
     "data": {
      "text/plain": [
       "-16582.015992208042"
      ]
     },
     "execution_count": 27,
     "metadata": {},
     "output_type": "execute_result"
    }
   ],
   "source": [
    "loglikfun(parms)"
   ]
  },
  {
   "cell_type": "code",
   "execution_count": 29,
   "metadata": {
    "collapsed": true
   },
   "outputs": [],
   "source": [
    "loglikfun = gradPoisson"
   ]
  },
  {
   "cell_type": "code",
   "execution_count": 30,
   "metadata": {},
   "outputs": [
    {
     "data": {
      "text/plain": [
       "array([  3.01583524e+03,   2.06987205e+02,   4.71837390e+02,\n",
       "         1.31490242e+03,   2.09412944e+03,   1.04395443e+03,\n",
       "         4.04704433e+03,   2.98589710e+04,  -5.55443115e+01,\n",
       "        -1.27690077e+01,  -1.30386892e+00])"
      ]
     },
     "execution_count": 30,
     "metadata": {},
     "output_type": "execute_result"
    }
   ],
   "source": [
    "loglikfun(parms)"
   ]
  },
  {
   "cell_type": "code",
   "execution_count": 31,
   "metadata": {},
   "outputs": [
    {
     "data": {
      "text/plain": [
       "-16582.015992208042"
      ]
     },
     "execution_count": 31,
     "metadata": {},
     "output_type": "execute_result"
    }
   ],
   "source": [
    "ziPoisson(parms)"
   ]
  },
  {
   "cell_type": "code",
   "execution_count": null,
   "metadata": {
    "collapsed": true
   },
   "outputs": [],
   "source": []
  }
 ],
 "metadata": {
  "kernelspec": {
   "display_name": "Python 3",
   "language": "python",
   "name": "python3"
  },
  "language_info": {
   "codemirror_mode": {
    "name": "ipython",
    "version": 3
   },
   "file_extension": ".py",
   "mimetype": "text/x-python",
   "name": "python",
   "nbconvert_exporter": "python",
   "pygments_lexer": "ipython3",
   "version": "3.6.1"
  }
 },
 "nbformat": 4,
 "nbformat_minor": 2
}
