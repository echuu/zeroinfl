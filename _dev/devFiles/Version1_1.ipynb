{
 "cells": [
  {
   "cell_type": "code",
   "execution_count": 1,
   "metadata": {
    "collapsed": true
   },
   "outputs": [],
   "source": [
    "### Lines below will not go inside the function\n",
    "import numpy as np\n",
    "import pandas as pd\n",
    "import patsy\n",
    "df = pd.read_csv('DebTrivedi.csv',index_col = [0])\n",
    "sel = np.array([1, 6, 7, 8, 13, 15, 18])-1\n",
    "df = df.iloc[:,sel]\n",
    "# produce design matrices from R-style formula\n",
    "X_formula = 'ofp ~ hosp + health + numchron + gender + school + privins'\n",
    "y, X = patsy.dmatrices(X_formula, df, return_type='dataframe')\n",
    "Z_formula = 'ofp ~ health'\n",
    "Z = patsy.dmatrices(Z_formula, df, return_type='dataframe')[1]"
   ]
  },
  {
   "cell_type": "code",
   "execution_count": 20,
   "metadata": {
    "collapsed": true
   },
   "outputs": [],
   "source": [
    "class Logit(object):\n",
    "    def __init__(self):\n",
    "        self.linkclass = sm.genmod.families.links.logit\n",
    "    def link(self, mu):\n",
    "        return mu/(1.0 + mu)\n",
    "    def link_inv(self, eta):\n",
    "        thresh = 30.0\n",
    "        eta = np.minimum(np.maximum(eta,-thresh), thresh)\n",
    "        exp_eta = np.exp(eta)\n",
    "        return exp_eta/(1+exp_eta)\n",
    "    def link_inv_deriv(self, eta):\n",
    "        thresh = 30.0\n",
    "        eta[abs(eta) > thresh] = FLOAT_EPS\n",
    "        return np.exp(eta)/(1+np.exp(eta))**2\n",
    "\n",
    "class Probit(object):\n",
    "    def __init__(self):\n",
    "        self.linkclass = sm.genmod.families.links.probit\n",
    "    def link(self, mu):\n",
    "        return st.norm.ppf(mu)\n",
    "    def link_inv(self, eta):\n",
    "        thresh = -st.norm.ppf(FLOAT_EPS)\n",
    "        eta = np.minimum(np.maximum(eta,-thresh),thresh)\n",
    "        return st.norm.cdf(eta)\n",
    "    def link_inv_deriv(self, eta):\n",
    "        return np.maximum(st.norm.pdf(eta),FLOAT_EPS)\n",
    "    \n",
    "class CLogLog(object):\n",
    "    def __init__(self):\n",
    "        self.linkclass = sm.genmod.families.links.cloglog\n",
    "    def link(self, mu):\n",
    "        return np.log(-np.log(1 - mu))\n",
    "    def link_inv(self, eta):\n",
    "        return np.maximum(np.minimum(-np.expm1(-np.exp(eta)),1-FLOAT_EPS),FLOAT_EPS)\n",
    "    def link_inv_deriv(self, eta):\n",
    "        eta = np.minimum(eta,700)\n",
    "        return np.maximum(np.exp(eta)*np.exp(-np.exp(eta)),FLOAT_EPS)\n",
    "    \n",
    "class Cauchit(object):\n",
    "    def __init__(self):\n",
    "        self.linkclass = sm.genmod.families.links.cauchy\n",
    "    def link(self, mu):\n",
    "        return st.cauchy.ppf(mu)\n",
    "    def link_inv(self, eta):\n",
    "        thresh = -st.cauchy.ppf(FLOAT_EPS)\n",
    "        eta = np.minimum(np.maximum(eta,-thresh),thresh)\n",
    "        return st.cauchy.cdf(eta)\n",
    "    def link_inv_deriv(self, eta):\n",
    "        return nnp.maximum(st.cauchy.pdf(eta),FLOAT_EPS)\n",
    "    \n",
    "class Log(object):\n",
    "    def __init__(self):\n",
    "        self.linkclass = sm.genmod.families.links.log\n",
    "    def link(self, mu):\n",
    "        return np.log(mu)\n",
    "    def link_inv(self, eta):\n",
    "        return np.maximum(np.exp(eta), FLOAT_EPS)\n",
    "    def link_inv_deriv(self, eta):\n",
    "        return np.maximum(np.exp(eta), FLOAT_EPS)"
   ]
  },
  {
   "cell_type": "code",
   "execution_count": 21,
   "metadata": {
    "collapsed": true
   },
   "outputs": [],
   "source": [
    "def setLinkClass(argument):\n",
    "    Link = {\n",
    "        'logit': Logit(),\n",
    "        'probit': Probit(),\n",
    "        'cloglog': CLogLog(),\n",
    "        'cauchit': Cauchit(),\n",
    "        'log': Log(),\n",
    "    }\n",
    "    return Link.get(argument, Logit)"
   ]
  },
  {
   "cell_type": "code",
   "execution_count": 156,
   "metadata": {},
   "outputs": [],
   "source": [
    "## Function starts\n",
    "import numpy as np\n",
    "import pandas as pd\n",
    "import statsmodels.api as sm\n",
    "import scipy as sp\n",
    "import scipy.stats as st\n",
    "import sys\n",
    "import warnings\n",
    "\n",
    "FLOAT_EPS = np.finfo(float).eps\n",
    "\n",
    "## sanity checks\n",
    "if len(Y) < 1:\n",
    "    sys.exit(\"empty model\")\n",
    "if np.all(Y > 0):\n",
    "    sys.exit(\"invalid dependent variable, minimum count is not zero\")  \n",
    "if np.array_equal(np.asarray(Y), (np.round(Y + 0.001)).astype(int)) is False:\n",
    "    sys.exit(\"invalid dependent variable, non-integer values\")\n",
    "Y = (np.round(Y + 0.001)).astype(int)\n",
    "if np.any(Y < 0):\n",
    "    sys.exit(\"invalid dependent variable, negative counts\")\n",
    "    \n",
    "    \n",
    "## convenience variables\n",
    "Y = np.squeeze(y.values)\n",
    "n = len(Y)\n",
    "kx = X.shape[1] # Number of columns in X\n",
    "kz = Z.shape[1]\n",
    "Y0 = Y <= 0\n",
    "Y1 = Y > 0\n",
    "\n",
    "## weights and offset\n",
    "\n",
    "if weights is None:\n",
    "    weights = 1.0\n",
    "weights = np.ndarray.flatten(np.array(weights))\n",
    "if weights.size == 1:\n",
    "    weights = np.repeat(weights,n)\n",
    "weights = pd.Series(data = weights, index = X.index)\n",
    "\n",
    "if offsetx is None:\n",
    "    offsetx = 0.0\n",
    "offsetx = np.ndarray.flatten(np.array(offsetx))\n",
    "if offsetx.size == 1:\n",
    "    offsetx = np.repeat(offsetx,n)\n",
    "\n",
    "if offsetz is None:\n",
    "    offsetz = 0.0\n",
    "offsetz = np.ndarray.flatten(np.array(offsetz))\n",
    "if offsetz.size == 1:\n",
    "    offsetz = np.repeat(offsetz,n)\n",
    "    \n",
    "## binary link processing\n",
    "linkstr = control['link']\n",
    "linkList = ['logit','probit','cauchit','cloglog','log']\n",
    "if linkstr not in linkList:\n",
    "    sys.exit(linkstr +\" link not valid. Available links are: \" + str(linkList))\n",
    "link = setLinkClass(linkstr)\n",
    "\n",
    "def ziPoisson(parms, sign = 1.0):\n",
    "    ## count mean\n",
    "    mu = np.exp(np.dot(X,parms[np.arange(kx)]) + offsetx)\n",
    "    ## binary mean\n",
    "    phi = link.link_inv(np.dot(Z, parms[np.arange(kx,kx+kz)]) + offsetz)\n",
    "    ## log-likelihood for y = 0 and y >= 1\n",
    "    loglik0 = np.log( phi + np.exp( np.log(1-phi) - mu ) ) ## -mu = dpois(0, lambda = mu, log = TRUE)\n",
    "    loglik1 = np.log(1-phi) + sp.stats.poisson.logpmf(Y, mu)\n",
    "    ## collect and return\n",
    "    loglik = np.dot(weights[Y0],loglik0[Y0])+np.dot(weights[Y1],loglik1[Y1])\n",
    "    return sign*loglik\n",
    "\n",
    "def gradPoisson(parms, sign = 1.0):\n",
    "    ## count mean\n",
    "    eta = np.dot(X,parms[np.arange(kx)]) + offsetx\n",
    "    mu = np.exp(eta)\n",
    "    ## binary mean\n",
    "    etaz = np.dot(Z, parms[np.arange(kx,kx+kz)]) + offsetz\n",
    "    muz = link.link_inv(etaz)\n",
    "    ## densities at 0\n",
    "    clogdens0 = -mu\n",
    "    dens0 = muz*(1-Y1.astype(float)) + np.exp(np.log(1 - muz) + clogdens0)\n",
    "    ## working residuals  \n",
    "    wres_count = np.where(Y1,Y-mu,-np.exp(-np.log(dens0) + \n",
    "                                          np.log(1 - muz) + clogdens0 + np.log(mu))) \n",
    "    link_etaz = link.link_inv_deriv(etaz)\n",
    "    wres_zero  = np.where(Y1,-1/(1-muz) * link_etaz, \\\n",
    "                          (link_etaz - np.exp(clogdens0) * link_etaz)/dens0)\n",
    "    \n",
    "    \n",
    "    return sign*(np.hstack((np.expand_dims(wres_count*weights,axis=1)*X, \\\n",
    "                np.expand_dims(wres_zero*weights,axis=1)*Z))).sum(axis=0)\n",
    "\n",
    "\n",
    "## Parameters: mention these in class definition\n",
    "##-----------------------------------------------\n",
    "\n",
    "reltol =  (np.finfo(float).eps)**(1/1.6)\n",
    "method = 'BFGS'\n",
    "dist = 'Poisson'\n",
    "##-----------------------------------------------\n",
    "reltol = control['tol']\n",
    "if reltol is None:\n",
    "    reltol =  (np.finfo(float).eps)**(1/1.6)\n",
    "method = control['method']\n",
    "dist = control['dist']\n",
    "if dist not in ['Poisson']:#,'NegBin','Geom']:\n",
    "    sys.exit(dist+\" method not yet implemented\")\n",
    "if dist is 'Poisson':\n",
    "    loglikfun = ziPoisson\n",
    "    gradfun = gradPoisson\n",
    "options = control['options']\n",
    "if options is None:\n",
    "    options = {'disp': False, 'maxiter': 10000}\n",
    "start = control['start']\n",
    "\n",
    "# starting values\n",
    "if start is not None:\n",
    "    valid = True\n",
    "    if ('count' in start) is False:\n",
    "        valid = False\n",
    "        warnings.warn(\"invalid starting values, count model coefficients not specified\")\n",
    "        start['count'] = pd.Series(np.repeat(0,kx), index = X.columns.values)\n",
    "    if ('zero' in start) is False:\n",
    "        valid = False\n",
    "        warnings.warn(\"invalid starting values, zero model coefficients not specified\")\n",
    "        start['zero'] = pd.Series(np.repeat(0,kz), index = Z.columns.values)\n",
    "    if(len(start['count']) != kx):\n",
    "        valid = False\n",
    "        warning(\"invalid starting values, wrong number of count model coefficients\")\n",
    "    if(len(start['zero']) != kz):\n",
    "        valid = False\n",
    "        warning(\"invalid starting values, wrong number of zero model coefficients\")\n",
    "    \n",
    "    start = {'zero':start['zero'], 'count':start['count']}\n",
    "    if valid is False:\n",
    "        start = None\n",
    "\n",
    "if start is None:\n",
    "## EM estimation of starting values\n",
    "    if (control['EM'] is True) and (dist is 'Poisson'):\n",
    "        model_count = sm.GLM(endog = Y, exog = X, family = sm.families.Poisson(),\\\n",
    "                                  offset = offsetx , freq_weights = weights).fit()\n",
    "        model_zero = sm.GLM(Y0.astype(int), exog = Z, family=sm.families.Binomial(link = link.linkclass), \\\n",
    "                   offset = offsetz , freq_weights = weights).fit()\n",
    "        start = {'zero':model_zero.params, 'count':model_count.params}\n",
    "\n",
    "        mui = model_count.predict()\n",
    "        probi = model_zero.predict()\n",
    "        probi = probi/(probi + (1-probi)*sp.stats.poisson.pmf(0, mui))\n",
    "        probi[Y1] = 0\n",
    "        probi\n",
    "        ll_new = loglikfun(np.hstack((start['count'].values,start['zero'].values)))\n",
    "        ll_old = 2 * ll_new\n",
    "    \n",
    "        while np.absolute((ll_old - ll_new)/ll_old) > reltol :\n",
    "            ll_old = ll_new\n",
    "            model_count = poisson_mod = sm.GLM(endog = Y, exog = X, family = sm.families.Poisson(),\\\n",
    "                                  offset = offsetx , freq_weights = weights*(1-probi), \\\n",
    "                                      start_params = start['count']).fit()\n",
    "            model_zero = sm.GLM(probi, exog = Z, family=sm.families.Binomial(link = link.linkclass),\\\n",
    "                        offset = offsetz, freq_weights = weights, \\\n",
    "                        start_params = start['zero']).fit()\n",
    "            start = {'zero':model_zero.params, 'count':model_count.params}\n",
    "\n",
    "            mui = model_count.predict()\n",
    "            probi = model_zero.predict()\n",
    "            probi = probi/(probi + (1-probi)*sp.stats.poisson.pmf(0, mui))\n",
    "            probi[Y1] = 0\n",
    "\n",
    "            ll_new = loglikfun(np.hstack((start['count'].values,start['zero'].values)))\n",
    "    \n",
    "## ML Estimation\n",
    "fit = sp.optimize.minimize(loglikfun, args=(-1.0/2,), x0 = np.hstack((start['count'].values,start['zero'].values)),\\\n",
    "            method=method, jac=gradfun, options=options, tol = reltol)\n",
    "\n",
    "## coefficients and covariances\n",
    "coefc = pd.Series(data = fit.x[0:kx], index = X.columns.values)\n",
    "coefz = pd.Series(data = fit.x[kx:kx+kz], index = Z.columns.values)\n",
    "vc = pd.DataFrame(data = -fit.hess_inv, index = np.append(X.columns.values, Z.columns.values),\\\n",
    "                 columns = np.append(X.columns.values, Z.columns.values))\n",
    "\n",
    "## fitted and residuals\n",
    "mu = np.exp(np.dot(X,coefc)+offsetx)\n",
    "phi = link.link_inv(np.dot(Z,coefz)+offsetz)\n",
    "Yhat = (1-phi) * mu\n",
    "res = np.sqrt(weights) * (Y - Yhat)\n",
    "\n",
    "## effective observations\n",
    "nobs = np.sum(weights > 0)"
   ]
  },
  {
   "cell_type": "code",
   "execution_count": 172,
   "metadata": {
    "collapsed": true
   },
   "outputs": [],
   "source": [
    "start['count'] = pd.Series(np.repeat(0,kx), index = X.columns.values)"
   ]
  },
  {
   "cell_type": "code",
   "execution_count": 175,
   "metadata": {},
   "outputs": [
    {
     "data": {
      "text/plain": [
       "False"
      ]
     },
     "execution_count": 175,
     "metadata": {},
     "output_type": "execute_result"
    }
   ],
   "source": [
    "len(start['count']) != kx"
   ]
  },
  {
   "cell_type": "code",
   "execution_count": 176,
   "metadata": {},
   "outputs": [],
   "source": [
    "options = {'disp': False, 'maxiter': 10000}"
   ]
  },
  {
   "cell_type": "code",
   "execution_count": 134,
   "metadata": {},
   "outputs": [],
   "source": [
    "model_zero = sm.GLM(Y0.astype(int), exog = Z, family=sm.families.Binomial(link = link.linkclass), \\\n",
    "                   offset = offsetz , freq_weights = weights).fit()"
   ]
  },
  {
   "cell_type": "code",
   "execution_count": 178,
   "metadata": {},
   "outputs": [],
   "source": [
    "y = {'options':options,'zzz':2}"
   ]
  },
  {
   "cell_type": "code",
   "execution_count": 139,
   "metadata": {},
   "outputs": [],
   "source": [
    "probi = model_zero.predict()\n",
    "probi = probi/(probi + (1-probi)*sp.stats.poisson.pmf(0, mui))"
   ]
  },
  {
   "cell_type": "code",
   "execution_count": 179,
   "metadata": {},
   "outputs": [],
   "source": [
    "dist = 'Poisson'"
   ]
  },
  {
   "cell_type": "code",
   "execution_count": 181,
   "metadata": {},
   "outputs": [
    {
     "data": {
      "text/plain": [
       "True"
      ]
     },
     "execution_count": 181,
     "metadata": {},
     "output_type": "execute_result"
    }
   ],
   "source": [
    "dist not in ['Po','NegBin','Geom']"
   ]
  },
  {
   "cell_type": "code",
   "execution_count": 187,
   "metadata": {},
   "outputs": [
    {
     "ename": "SystemExit",
     "evalue": "Poissonmethod not yet implemented['Poisso', 'NegBin', 'Geom']",
     "output_type": "error",
     "traceback": [
      "An exception has occurred, use %tb to see the full traceback.\n",
      "\u001b[0;31mSystemExit\u001b[0m\u001b[0;31m:\u001b[0m Poissonmethod not yet implemented['Poisso', 'NegBin', 'Geom']\n"
     ]
    },
    {
     "name": "stderr",
     "output_type": "stream",
     "text": [
      "/anaconda/lib/python3.6/site-packages/IPython/core/interactiveshell.py:2889: UserWarning: To exit: use 'exit', 'quit', or Ctrl-D.\n",
      "  warn(\"To exit: use 'exit', 'quit', or Ctrl-D.\", stacklevel=1)\n"
     ]
    }
   ],
   "source": [
    "linklist =  ['Poisso','NegBin','Geom']\n",
    "sys.exit(dist+\"method not yet implemented\"+str(linklist))\n",
    " "
   ]
  },
  {
   "cell_type": "markdown",
   "metadata": {},
   "source": [
    "`rval = list(coefficients = list(count = coefc, zero = coefz),\n",
    "    residuals = res,\n",
    "    fitted.values = Yhat,\n",
    "    optim = fit,\n",
    "    method = method,\n",
    "    ### control = ocontrol,\n",
    "    start = start,\n",
    "    weights = if(identical(as.vector(weights), rep.int(1L, n))) NULL else weights,\n",
    "    offset = list(count = if(identical(offsetx, rep.int(0, n))) NULL else offsetx,\n",
    "      zero = if(identical(offsetz, rep.int(0, n))) NULL else offsetz),\n",
    "    n = nobs,\n",
    "    df.null = nobs - 2,\n",
    "    df.residual = nobs - (kx + kz + (dist == \"negbin\")),\n",
    "    terms = list(count = mtX, zero = mtZ, full = mt),\n",
    "    ###  theta = theta,\n",
    "    ### SE.logtheta = SE.logtheta,\n",
    "    loglik = fit$value,\n",
    "    vcov = vc,\n",
    "    dist = dist,\n",
    "    link = linkstr,\n",
    "    linkinv = linkinv,\n",
    "    converged = fit$convergence < 1,\n",
    "    ### call = cl,\n",
    "    ### formula = ff,\n",
    "    ### levels = .getXlevels(mt, mf),\n",
    "    ### contrasts = list(count = attr(X, \"contrasts\"), zero = attr(Z, \"contrasts\"))\n",
    "    )\n",
    "    ### if(model) rval$model <- mf\n",
    "    if(y) rval$y <- Y\n",
    "    if(x) rval$x <- list(count = X, zero = Z)\n",
    "      \n",
    "    class(rval) <- \"ZinfModel\"\n",
    "    return(rval)\n",
    "    }`"
   ]
  },
  {
   "cell_type": "markdown",
   "metadata": {},
   "source": [
    "## Comments:\n",
    "ZinfModel: Class name is more inclusive if binomial and geometric inflated models are added in future. Also first alphabet in uppercase is standard practice in naming python classes.\n",
    "\n",
    "No need to add '###' variables above in class definition.\n",
    "\n",
    "If possible try for the print output to look similar to python sm.glm output"
   ]
  },
  {
   "cell_type": "code",
   "execution_count": null,
   "metadata": {
    "collapsed": true
   },
   "outputs": [],
   "source": []
  }
 ],
 "metadata": {
  "kernelspec": {
   "display_name": "Python 3",
   "language": "python",
   "name": "python3"
  },
  "language_info": {
   "codemirror_mode": {
    "name": "ipython",
    "version": 3
   },
   "file_extension": ".py",
   "mimetype": "text/x-python",
   "name": "python",
   "nbconvert_exporter": "python",
   "pygments_lexer": "ipython3",
   "version": "3.6.1"
  }
 },
 "nbformat": 4,
 "nbformat_minor": 2
}
