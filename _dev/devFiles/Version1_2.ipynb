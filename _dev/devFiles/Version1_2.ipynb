{
 "cells": [
  {
   "cell_type": "code",
   "execution_count": 121,
   "metadata": {},
   "outputs": [],
   "source": [
    "def zeroinfl(endog, exog_count, exog_zero, dist = 'Poisson', link = 'logit', weights = None, offsetx = None,\\\n",
    "             offsetz = None, control = {'start':None, 'EM':True, 'method':'BFGS', 'tol':None,\\\n",
    "                        'options':None}):\n",
    "    ## Function starts\n",
    "    import numpy as np\n",
    "    import pandas as pd\n",
    "    import statsmodels.api as sm\n",
    "    import scipy as sp\n",
    "    import scipy.stats as st\n",
    "    import sys\n",
    "    import warnings\n",
    "\n",
    "    FLOAT_EPS = np.finfo(float).eps\n",
    "    \n",
    "    Y = endog\n",
    "    X = exog_count\n",
    "    Z = exog_zero\n",
    "    ## convenience variables\n",
    "    Y = np.squeeze(y.values)\n",
    "    n = len(Y)\n",
    "    kx = X.shape[1] # Number of columns in X\n",
    "    kz = Z.shape[1]\n",
    "    Y0 = Y <= 0\n",
    "    Y1 = Y > 0\n",
    "    \n",
    "    ## sanity checks\n",
    "    if len(Y) < 1:\n",
    "        sys.exit(\"empty model\")\n",
    "    if np.all(Y > 0):\n",
    "        sys.exit(\"invalid dependent variable, minimum count is not zero\")  \n",
    "    if np.array_equal(np.asarray(Y), (np.round(Y + 0.001)).astype(int)) is False:\n",
    "        sys.exit(\"invalid dependent variable, non-integer values\")\n",
    "    Y = (np.round(Y + 0.001)).astype(int)\n",
    "    if np.any(Y < 0):\n",
    "        sys.exit(\"invalid dependent variable, negative counts\")\n",
    "\n",
    "    ## weights and offset\n",
    "\n",
    "    if weights is None:\n",
    "        weights = 1.0\n",
    "    weights = np.ndarray.flatten(np.array(weights))\n",
    "    if weights.size == 1:\n",
    "        weights = np.repeat(weights,n)\n",
    "    weights = pd.Series(data = weights, index = X.index)\n",
    "\n",
    "    if offsetx is None:\n",
    "        offsetx = 0.0\n",
    "    offsetx = np.ndarray.flatten(np.array(offsetx))\n",
    "    if offsetx.size == 1:\n",
    "        offsetx = np.repeat(offsetx,n)\n",
    "\n",
    "    if offsetz is None:\n",
    "        offsetz = 0.0\n",
    "    offsetz = np.ndarray.flatten(np.array(offsetz))\n",
    "    if offsetz.size == 1:\n",
    "        offsetz = np.repeat(offsetz,n)\n",
    "        \n",
    "    class Logit(object):\n",
    "        def __init__(self):\n",
    "            self.linkclass = sm.genmod.families.links.logit\n",
    "        def link(self, mu):\n",
    "            return mu/(1.0 + mu)\n",
    "        def link_inv(self, eta):\n",
    "            thresh = 30.0\n",
    "            eta = np.minimum(np.maximum(eta,-thresh), thresh)\n",
    "            exp_eta = np.exp(eta)\n",
    "            return exp_eta/(1+exp_eta)\n",
    "        def link_inv_deriv(self, eta):\n",
    "            thresh = 30.0\n",
    "            eta[abs(eta) > thresh] = FLOAT_EPS\n",
    "            return np.exp(eta)/(1+np.exp(eta))**2\n",
    "\n",
    "    class Probit(object):\n",
    "        def __init__(self):\n",
    "            self.linkclass = sm.genmod.families.links.probit\n",
    "        def link(self, mu):\n",
    "            return st.norm.ppf(mu)\n",
    "        def link_inv(self, eta):\n",
    "            thresh = -st.norm.ppf(FLOAT_EPS)\n",
    "            eta = np.minimum(np.maximum(eta,-thresh),thresh)\n",
    "            return st.norm.cdf(eta)\n",
    "        def link_inv_deriv(self, eta):\n",
    "            return np.maximum(st.norm.pdf(eta),FLOAT_EPS)\n",
    "    \n",
    "    class CLogLog(object):\n",
    "        def __init__(self):\n",
    "            self.linkclass = sm.genmod.families.links.cloglog\n",
    "        def link(self, mu):\n",
    "            return np.log(-np.log(1 - mu))\n",
    "        def link_inv(self, eta):\n",
    "            return np.maximum(np.minimum(-np.expm1(-np.exp(eta)),1-FLOAT_EPS),FLOAT_EPS)\n",
    "        def link_inv_deriv(self, eta):\n",
    "            eta = np.minimum(eta,700)\n",
    "            return np.maximum(np.exp(eta)*np.exp(-np.exp(eta)),FLOAT_EPS)\n",
    "    \n",
    "    class Cauchit(object):\n",
    "        def __init__(self):\n",
    "            self.linkclass = sm.genmod.families.links.cauchy\n",
    "        def link(self, mu):\n",
    "            return st.cauchy.ppf(mu)\n",
    "        def link_inv(self, eta):\n",
    "            thresh = -st.cauchy.ppf(FLOAT_EPS)\n",
    "            eta = np.minimum(np.maximum(eta,-thresh),thresh)\n",
    "            return st.cauchy.cdf(eta)\n",
    "        def link_inv_deriv(self, eta):\n",
    "            return nnp.maximum(st.cauchy.pdf(eta),FLOAT_EPS)\n",
    "    \n",
    "    class Log(object):\n",
    "        def __init__(self):\n",
    "            self.linkclass = sm.genmod.families.links.log\n",
    "        def link(self, mu):\n",
    "            return np.log(mu)\n",
    "        def link_inv(self, eta):\n",
    "            return np.maximum(np.exp(eta), FLOAT_EPS)\n",
    "        def link_inv_deriv(self, eta):\n",
    "            return np.maximum(np.exp(eta), FLOAT_EPS)\n",
    "        \n",
    "    def setLinkClass(argument):\n",
    "        Link = {\n",
    "            'logit': Logit(),\n",
    "            'probit': Probit(),\n",
    "            'cloglog': CLogLog(),\n",
    "            'cauchit': Cauchit(),\n",
    "            'log': Log(),\n",
    "        }\n",
    "        return Link.get(argument, Logit())\n",
    "    \n",
    "    ## binary link processing\n",
    "    linkstr = link\n",
    "    linkobj = setLinkClass(linkstr)\n",
    "    linkList = ['logit','probit','cauchit','cloglog','log']\n",
    "    if linkstr not in linkList:\n",
    "        warnings.warn(linkstr +\" link not valid. Available links are: \" + str(linkList))\n",
    "        linkstr = 'logit'\n",
    "    \n",
    "\n",
    "    def ziPoisson(parms, sign = 1.0):\n",
    "        ## count mean\n",
    "        mu = np.exp(np.dot(X,parms[np.arange(kx)]) + offsetx)\n",
    "        ## binary mean\n",
    "        phi = linkobj.link_inv(np.dot(Z, parms[np.arange(kx,kx+kz)]) + offsetz)\n",
    "        ## log-likelihood for y = 0 and y >= 1\n",
    "        ## Note: mu = sp.stats.poisson.logpmf(0, mu) in loglike0\n",
    "        loglik0 = np.log( phi + np.exp( np.log(1-phi) - mu ) ) \n",
    "        loglik1 = np.log(1-phi) + st.poisson.logpmf(Y, mu)\n",
    "        ## collect and return\n",
    "        loglik = np.dot(weights[Y0],loglik0[Y0])+np.dot(weights[Y1],loglik1[Y1])\n",
    "        return sign*loglik\n",
    "\n",
    "    def gradPoisson(parms, sign = 1.0):\n",
    "        ## count mean\n",
    "        eta = np.dot(X,parms[np.arange(kx)]) + offsetx\n",
    "        mu = np.exp(eta)\n",
    "        ## binary mean\n",
    "        etaz = np.dot(Z, parms[np.arange(kx,kx+kz)]) + offsetz\n",
    "        muz = linkobj.link_inv(etaz)\n",
    "        ## densities at 0\n",
    "        clogdens0 = -mu\n",
    "        dens0 = muz*(1-Y1.astype(float)) + np.exp(np.log(1 - muz) + clogdens0)\n",
    "        ## working residuals  \n",
    "        wres_count = np.where(Y1,Y-mu,-np.exp(-np.log(dens0) + \n",
    "                                          np.log(1 - muz) + clogdens0 + np.log(mu))) \n",
    "        link_etaz = linkobj.link_inv_deriv(etaz)\n",
    "        wres_zero  = np.where(Y1,-1/(1-muz) * link_etaz, \\\n",
    "                          (link_etaz - np.exp(clogdens0) * link_etaz)/dens0)   \n",
    "    \n",
    "        return sign*(np.hstack((np.expand_dims(wres_count*weights,axis=1)*X, \\\n",
    "                np.expand_dims(wres_zero*weights,axis=1)*Z))).sum(axis=0)\n",
    "\n",
    "\n",
    "    reltol = control['tol']\n",
    "    if reltol is None:\n",
    "        reltol =  (np.finfo(float).eps)**(1/1.6)\n",
    "    method = control['method']\n",
    "    if dist not in ['Poisson']:#,'NegBin','Geom']:\n",
    "        sys.exit(dist+\" method not yet implemented\")\n",
    "    if dist is 'Poisson':\n",
    "        loglikfun = ziPoisson\n",
    "        gradfun = gradPoisson\n",
    "        \n",
    "    options = control['options']\n",
    "    if options is None:\n",
    "        options = {'disp': False, 'maxiter': 10000}\n",
    "\n",
    "    start = control['start']\n",
    "\n",
    "    # starting values\n",
    "    if start is not None:\n",
    "        valid = True\n",
    "        if ('count' in start) is False:\n",
    "            valid = False\n",
    "            warnings.warn(\"invalid starting values, count model coefficients not specified\")\n",
    "            start['count'] = pd.Series(np.repeat(0,kx), index = X.columns.values)\n",
    "        if ('zero' in start) is False:\n",
    "            valid = False\n",
    "            warnings.warn(\"invalid starting values, zero model coefficients not specified\")\n",
    "            start['zero'] = pd.Series(np.repeat(0,kz), index = Z.columns.values)\n",
    "        if(len(start['count']) != kx):\n",
    "            valid = False\n",
    "            warnings.warn(\"invalid starting values, wrong number of count model coefficients\")\n",
    "        if(len(start['zero']) != kz):\n",
    "            valid = False\n",
    "            warnings.warn(\"invalid starting values, wrong number of zero model coefficients\")\n",
    "    \n",
    "        start = {'zero':start['zero'], 'count':start['count']}\n",
    "        if valid is False:\n",
    "            start = None\n",
    "\n",
    "    if start is None:\n",
    "    ## EM estimation of starting values\n",
    "        if (control['EM'] is True) and (dist is 'Poisson'):\n",
    "            model_count = sm.GLM(endog = Y, exog = X, family = sm.families.Poisson(),\\\n",
    "                                  offset = offsetx , freq_weights = weights).fit()\n",
    "            model_zero = sm.GLM(Y0.astype(int), exog = Z, family=sm.families.Binomial(link = linkobj.linkclass), \\\n",
    "                   offset = offsetz , freq_weights = weights).fit()\n",
    "            start = {'zero':model_zero.params, 'count':model_count.params}\n",
    "\n",
    "            mui = model_count.predict()\n",
    "            probi = model_zero.predict()\n",
    "            probi = probi/(probi + (1-probi)*sp.stats.poisson.pmf(0, mui))\n",
    "            probi[Y1] = 0\n",
    "    \n",
    "            ll_new = loglikfun(np.hstack((start['count'].values,start['zero'].values)))\n",
    "            ll_old = 2 * ll_new\n",
    "    \n",
    "            while np.absolute((ll_old - ll_new)/ll_old) > reltol :\n",
    "                ll_old = ll_new\n",
    "                model_count = poisson_mod = sm.GLM(endog = Y, exog = X, family = sm.families.Poisson(),\\\n",
    "                                  offset = offsetx , freq_weights = weights*(1-probi), \\\n",
    "                                      start_params = start['count']).fit()\n",
    "                model_zero = sm.GLM(probi, exog = Z, family=sm.families.Binomial(link = linkobj.linkclass),\\\n",
    "                        offset = offsetz, freq_weights = weights, \\\n",
    "                        start_params = start['zero']).fit()\n",
    "                start = {'zero':model_zero.params, 'count':model_count.params}\n",
    "\n",
    "                mui = model_count.predict()\n",
    "                probi = model_zero.predict()\n",
    "                probi = probi/(probi + (1-probi)*sp.stats.poisson.pmf(0, mui))\n",
    "                probi[Y1] = 0\n",
    "\n",
    "                ll_new = loglikfun(np.hstack((start['count'].values,start['zero'].values)))\n",
    "    \n",
    "    ## ML Estimation\n",
    "    fit = sp.optimize.minimize(loglikfun, args=(-1.0/2,), x0 = \\\n",
    "                               np.hstack((start['count'].values,start['zero'].values)),\\\n",
    "            method=method, jac=gradfun, options=options, tol = reltol)\n",
    "\n",
    "    print(fit.success)\n",
    "    ## coefficients and covariances\n",
    "    coefc = pd.Series(data = fit.x[0:kx], index = X.columns.values)\n",
    "    coefz = pd.Series(data = fit.x[kx:kx+kz], index = Z.columns.values)\n",
    "    vc = pd.DataFrame(data = -fit.hess_inv, index = np.append(X.columns.values, Z.columns.values),\\\n",
    "                 columns = np.append(X.columns.values, Z.columns.values))\n",
    "\n",
    "    ## fitted and residuals\n",
    "    mu = np.exp(np.dot(X,coefc)+offsetx)\n",
    "    phi = linkobj.link_inv(np.dot(Z,coefz)+offsetz)\n",
    "    Yhat = (1-phi) * mu\n",
    "    res = np.sqrt(weights) * (Y - Yhat)\n",
    "\n",
    "    ## effective observations\n",
    "    nobs = np.sum(weights > 0)\n",
    "    #print('{0:.8f}')\n",
    "    #print('{0:.8f}'.format(coefz.values))\n",
    "    \n",
    "    return coefc,coefz"
   ]
  },
  {
   "cell_type": "code",
   "execution_count": null,
   "metadata": {},
   "outputs": [],
   "source": []
  },
  {
   "cell_type": "code",
   "execution_count": 122,
   "metadata": {
    "collapsed": true
   },
   "outputs": [],
   "source": [
    "### Lines below will not go inside the function\n",
    "import numpy as np\n",
    "import pandas as pd\n",
    "import patsy\n",
    "df = pd.read_csv('DebTrivedi.csv',index_col = [0])\n",
    "sel = np.array([1, 6, 7, 8, 13, 15, 18])-1\n",
    "df = df.iloc[:,sel]\n",
    "# produce design matrices from R-style formula\n",
    "X_formula = 'ofp ~ hosp + health + numchron + gender + school + privins'\n",
    "y, X = patsy.dmatrices(X_formula, df, return_type='dataframe')\n",
    "Z_formula = 'ofp ~ health'\n",
    "Z = patsy.dmatrices(Z_formula, df, return_type='dataframe')[1]"
   ]
  },
  {
   "cell_type": "code",
   "execution_count": 123,
   "metadata": {},
   "outputs": [
    {
     "name": "stdout",
     "output_type": "stream",
     "text": [
      "True\n"
     ]
    }
   ],
   "source": [
    "result = zeroinfl(endog = y, exog_count = X, exog_zero = Z)"
   ]
  },
  {
   "cell_type": "code",
   "execution_count": 108,
   "metadata": {},
   "outputs": [],
   "source": [
    "np.set_printoptions(precision=10, suppress=True)"
   ]
  },
  {
   "cell_type": "code",
   "execution_count": 124,
   "metadata": {},
   "outputs": [
    {
     "name": "stdout",
     "output_type": "stream",
     "text": [
      "Intercept              1.393672\n",
      "health[T.excellent]   -0.307754\n",
      "health[T.poor]         0.254201\n",
      "gender[T.male]        -0.064859\n",
      "privins[T.yes]         0.085441\n",
      "hosp                   0.159127\n",
      "numchron               0.103280\n",
      "school                 0.019591\n",
      "dtype: float64\n"
     ]
    }
   ],
   "source": [
    "print(result[0])"
   ]
  },
  {
   "cell_type": "code",
   "execution_count": 125,
   "metadata": {},
   "outputs": [
    {
     "data": {
      "text/plain": [
       "array([ 1.3936719489, -0.3077536604,  0.2542013229, -0.0648591439,\n",
       "        0.0854410667,  0.1591270584,  0.103280224 ,  0.0195910001])"
      ]
     },
     "execution_count": 125,
     "metadata": {},
     "output_type": "execute_result"
    }
   ],
   "source": [
    "result[0].values"
   ]
  },
  {
   "cell_type": "code",
   "execution_count": 111,
   "metadata": {},
   "outputs": [
    {
     "data": {
      "text/plain": [
       "array([-1.7336424023,  0.4748861307, -0.3991551565])"
      ]
     },
     "execution_count": 111,
     "metadata": {},
     "output_type": "execute_result"
    }
   ],
   "source": [
    "result[1].values"
   ]
  },
  {
   "cell_type": "code",
   "execution_count": 92,
   "metadata": {
    "collapsed": true
   },
   "outputs": [],
   "source": [
    "import statsmodels as sm"
   ]
  },
  {
   "cell_type": "code",
   "execution_count": 28,
   "metadata": {},
   "outputs": [
    {
     "ename": "AttributeError",
     "evalue": "module 'statsmodels.discrete.discrete_model' has no attribute 'PoissonGMLE'",
     "output_type": "error",
     "traceback": [
      "\u001b[0;31m---------------------------------------------------------------------------\u001b[0m",
      "\u001b[0;31mAttributeError\u001b[0m                            Traceback (most recent call last)",
      "\u001b[0;32m<ipython-input-28-90986ac059f5>\u001b[0m in \u001b[0;36m<module>\u001b[0;34m()\u001b[0m\n\u001b[0;32m----> 1\u001b[0;31m \u001b[0msm\u001b[0m\u001b[0;34m.\u001b[0m\u001b[0mdiscrete\u001b[0m\u001b[0;34m.\u001b[0m\u001b[0mdiscrete_model\u001b[0m\u001b[0;34m.\u001b[0m\u001b[0mPoissonGMLE\u001b[0m\u001b[0;34m(\u001b[0m\u001b[0mendog\u001b[0m \u001b[0;34m=\u001b[0m \u001b[0my\u001b[0m\u001b[0;34m,\u001b[0m \u001b[0mexog\u001b[0m \u001b[0;34m=\u001b[0m \u001b[0mX\u001b[0m\u001b[0;34m)\u001b[0m\u001b[0;34m.\u001b[0m\u001b[0mfit\u001b[0m\u001b[0;34m(\u001b[0m\u001b[0;34m)\u001b[0m\u001b[0;34m.\u001b[0m\u001b[0msummary\u001b[0m\u001b[0;34m(\u001b[0m\u001b[0;34m)\u001b[0m\u001b[0;34m\u001b[0m\u001b[0m\n\u001b[0m",
      "\u001b[0;31mAttributeError\u001b[0m: module 'statsmodels.discrete.discrete_model' has no attribute 'PoissonGMLE'"
     ]
    }
   ],
   "source": [
    "sm.discrete.discrete_model.PoissonGMLE(endog = y, exog = X).fit().summary()"
   ]
  },
  {
   "cell_type": "code",
   "execution_count": 29,
   "metadata": {},
   "outputs": [
    {
     "name": "stdout",
     "output_type": "stream",
     "text": [
      "Object `sm.miscmodels` not found.\n"
     ]
    }
   ],
   "source": [
    "?sm.miscmodels"
   ]
  },
  {
   "cell_type": "code",
   "execution_count": null,
   "metadata": {
    "collapsed": true
   },
   "outputs": [],
   "source": []
  }
 ],
 "metadata": {
  "kernelspec": {
   "display_name": "Python 3",
   "language": "python",
   "name": "python3"
  },
  "language_info": {
   "codemirror_mode": {
    "name": "ipython",
    "version": 3
   },
   "file_extension": ".py",
   "mimetype": "text/x-python",
   "name": "python",
   "nbconvert_exporter": "python",
   "pygments_lexer": "ipython3",
   "version": "3.6.1"
  }
 },
 "nbformat": 4,
 "nbformat_minor": 2
}
