{
 "cells": [
  {
   "cell_type": "code",
   "execution_count": 5,
   "metadata": {
    "collapsed": true
   },
   "outputs": [],
   "source": [
    "class zipModel(object):\n",
    "    def __init__(self):\n",
    "        self.converged = False\n",
    "        self.dist = \"poisson with log link\"\n",
    "        self.call = \"String representation of the model\" # change later\n",
    "        self.coefficients = 0; # coefficient vector\n",
    "        self.residuals = 0\n",
    "        self.vcov = 0\n",
    "        ### continue adding variables relevant to zip model\n",
    "        "
   ]
  }
 ],
 "metadata": {
  "kernelspec": {
   "display_name": "Python 3",
   "language": "python",
   "name": "python3"
  },
  "language_info": {
   "codemirror_mode": {
    "name": "ipython",
    "version": 3
   },
   "file_extension": ".py",
   "mimetype": "text/x-python",
   "name": "python",
   "nbconvert_exporter": "python",
   "pygments_lexer": "ipython3",
   "version": "3.6.3"
  }
 },
 "nbformat": 4,
 "nbformat_minor": 2
}
