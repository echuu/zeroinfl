{
 "cells": [
  {
   "cell_type": "code",
   "execution_count": 110,
   "metadata": {},
   "outputs": [],
   "source": [
    "class zipModel(object):\n",
    "    \n",
    "    def __init__(self):\n",
    "        self.converged = False\n",
    "        self.coeff_count = np.array([0])  # coefficient vector for count model\n",
    "        self.coeff_zero = np.array([0])   # coefficient vector for zero-inflation model\n",
    "        self.residuals = np.array([0])\n",
    "        self.vcov = 0\n",
    "        \n",
    "        # string vars\n",
    "        self.var_names_count = ['']       # variable names, intercept in feat_names[0]\n",
    "        self.var_names_zero = ['']        # var name for zero-inflated variable\n",
    "        self.response_name = ''           # name of the response variable\n",
    "        \n",
    "        self.call = '' # change later        \n",
    "        \n",
    "        ### continue adding variables relevant to zip model\n",
    "        \n",
    "    \n",
    "    def printModel(self):\n",
    "        MODEL1_HEADER = \"Count model cefficients (poisson log link)\"\n",
    "        MODEL2_HEADER = \"Zero-inflation model coefficients (binomial with logit link)\"\n",
    "    \n",
    "        p_count = self.coeff_count.shape[0];   # num of preds (+ intercept) for poisson count\n",
    "        p_zero  = self.coeff_zero.shape[0];    # num of preds (+ intercept) for zero-inflated model\n",
    "        \n",
    "        features = \" + \".join(zip1.var_names_count[1:])\n",
    "        self.call = \"zip(formula = \" + self.response_name + \" ~ \" + \\\n",
    "                              features + \" | \" + self.var_names_zero[1] + \")\"\n",
    "        \n",
    "        # print string representation of model\n",
    "        print(\"\\nCall:\\n\" + self.call + \"\\n\")\n",
    "    \n",
    "        # part 1: poisson count model\n",
    "        print(MODEL1_HEADER + \"\\n\")\n",
    "        for line in [self.var_names_count, self.coeff_count]:\n",
    "            print(('{:>12}' * p_count).format(*line))\n",
    "        print(\"\\n\")\n",
    "        \n",
    "        # part 2: logit model for predicting excess zeros\n",
    "        print(MODEL2_HEADER + \"\\n\")\n",
    "        for line in [self.var_names_zero, self.coeff_zero]:\n",
    "            print(('{:>12}' * p_zero).format(*line))\n",
    "        print(\"\\n\")\n",
    "                \n",
    "        "
   ]
  },
  {
   "cell_type": "code",
   "execution_count": 111,
   "metadata": {},
   "outputs": [
    {
     "name": "stdout",
     "output_type": "stream",
     "text": [
      "\n",
      "Call:\n",
      "zip(formula = count ~ child + camper | persons)\n",
      "\n",
      "Count model cefficients (poisson log link)\n",
      "\n",
      " (Intercept)       child      camper\n",
      "       1.598      -1.043       0.834\n",
      "\n",
      "\n",
      "Zero-inflation model coefficients (binomial with logit link)\n",
      "\n",
      " (Intercept)     persons\n",
      "      1.2974     -0.5643\n",
      "\n",
      "\n"
     ]
    }
   ],
   "source": [
    "zip1 = zipModel();\n",
    "\n",
    "zip1.coeff_count = np.array([1.598, -1.043, 0.834]);\n",
    "zip1.coeff_zero = np.array([1.2974, -0.5643])\n",
    "\n",
    "zip1.var_names_count = ['(Intercept)', 'child', 'camper']\n",
    "zip1.var_names_zero = ['(Intercept)', 'persons']\n",
    "zip1.response_name = 'count';\n",
    "\n",
    "zip1.printModel()\n",
    "\n",
    "\n",
    "#features = \" + \".join(zip1.var_names_count[1:])\n",
    "#form = \"zip(formula = \" + zip1.response_name + \" ~ \" + features + \" | \" + zip1.var_names_zero[1] + \")\"\n",
    "#form"
   ]
  }
 ],
 "metadata": {
  "kernelspec": {
   "display_name": "Python 3",
   "language": "python",
   "name": "python3"
  },
  "language_info": {
   "codemirror_mode": {
    "name": "ipython",
    "version": 3
   },
   "file_extension": ".py",
   "mimetype": "text/x-python",
   "name": "python",
   "nbconvert_exporter": "python",
   "pygments_lexer": "ipython3",
   "version": "3.6.3"
  }
 },
 "nbformat": 4,
 "nbformat_minor": 2
}
